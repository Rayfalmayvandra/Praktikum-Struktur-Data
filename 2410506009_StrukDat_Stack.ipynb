{
  "nbformat": 4,
  "nbformat_minor": 0,
  "metadata": {
    "colab": {
      "provenance": [],
      "authorship_tag": "ABX9TyP/H1h6L2pQmYGnjrgHDHLK",
      "include_colab_link": true
    },
    "kernelspec": {
      "name": "python3",
      "display_name": "Python 3"
    },
    "language_info": {
      "name": "python"
    }
  },
  "cells": [
    {
      "cell_type": "markdown",
      "metadata": {
        "id": "view-in-github",
        "colab_type": "text"
      },
      "source": [
        "<a href=\"https://colab.research.google.com/github/Rayfalmayvandra/Praktikum-Struktur-Data/blob/main/2410506009_StrukDat_Stack.ipynb\" target=\"_parent\"><img src=\"https://colab.research.google.com/assets/colab-badge.svg\" alt=\"Open In Colab\"/></a>"
      ]
    },
    {
      "cell_type": "markdown",
      "source": [
        "# **Latihan 1**"
      ],
      "metadata": {
        "id": "61OfT2hOkKbG"
      }
    },
    {
      "cell_type": "code",
      "execution_count": null,
      "metadata": {
        "colab": {
          "base_uri": "https://localhost:8080/"
        },
        "id": "xcPUs6s5REY3",
        "outputId": "0ba799a9-51d7-463f-a37f-74c280eae224"
      },
      "outputs": [
        {
          "output_type": "stream",
          "name": "stdout",
          "text": [
            "Undo: Menghapus 'Ini teks ketiga'\n",
            "Undo: Menghapus 'Ini teks kedua.'\n"
          ]
        }
      ],
      "source": [
        "class TextEditor:\n",
        "  def __init__(self):\n",
        "      self.history = []\n",
        "\n",
        "  def write(self, text):\n",
        "      self.history.append(text)\n",
        "\n",
        "  def undo(self):\n",
        "      if self.history:\n",
        "          return f\"Undo: Menghapus '{self.history.pop()}'\"\n",
        "      return \"Tidak ada yang bisa di-undo\"\n",
        "\n",
        "# Contoh Penggunaan\n",
        "editor = TextEditor()\n",
        "editor.write(\"Hello, ini teks pertama.\")\n",
        "editor.write(\"Ini teks kedua.\")\n",
        "editor.write(\"Ini teks ketiga\")\n",
        "\n",
        "print(editor.undo())\n",
        "print(editor.undo())"
      ]
    },
    {
      "cell_type": "code",
      "source": [
        "#Latihan 1\n",
        "class Kalkulator:\n",
        "  def __init__(self):\n",
        "      self.history = []\n",
        "\n",
        "  def write(self, text):\n",
        "      self.history.append(text)\n",
        "\n",
        "  def undo(self):\n",
        "      if self.history:\n",
        "          return f\"Undo: Menghapus '{self.history.pop()}'\"\n",
        "      return \"Tidak ada yang bisa di-undo\"\n",
        "\n",
        "editor = Kalkulator()\n",
        "editor.write(\"0 * 9 = 0.\")\n",
        "editor.write(\"2 + 5 = 7.\")\n",
        "editor.write(\"10 - 5 = 5\")\n",
        "\n",
        "print(editor.undo())\n",
        "print(editor.undo())"
      ],
      "metadata": {
        "colab": {
          "base_uri": "https://localhost:8080/"
        },
        "id": "Cxo-c19_TaC1",
        "outputId": "fdd63a82-2367-4228-b10c-bed956603968"
      },
      "execution_count": null,
      "outputs": [
        {
          "output_type": "stream",
          "name": "stdout",
          "text": [
            "Undo: Menghapus '10 - 5 = 5'\n",
            "Undo: Menghapus '2 + 5 = 7.'\n"
          ]
        }
      ]
    },
    {
      "cell_type": "markdown",
      "source": [
        "# **Latihan 2**"
      ],
      "metadata": {
        "id": "2264YAeiJY1H"
      }
    },
    {
      "cell_type": "code",
      "source": [
        "from collections import deque\n",
        "\n",
        "class BrowserHistory:\n",
        "    def __init__(self):\n",
        "        self.history = deque()\n",
        "\n",
        "    def visit(self, url):\n",
        "      self.history.append(url)\n",
        "      print(f\"Mengunjungi: {url}\")\n",
        "\n",
        "    def back(self):\n",
        "      if self.history:\n",
        "          print(f\"Kembali ke: {self.history.pop()}\")\n",
        "      else:\n",
        "          print(\"Tidak ada riwayat!\")\n",
        "\n",
        "#Contoh Pengunaan\n",
        "browser = BrowserHistory()\n",
        "browser.visit(\"google.com\")\n",
        "browser.visit(\"youtube.com\")\n",
        "browser.visit(\"github.com\")\n",
        "\n",
        "browser.back()\n",
        "browser.back()"
      ],
      "metadata": {
        "colab": {
          "base_uri": "https://localhost:8080/"
        },
        "id": "X8L4JNPHUK4F",
        "outputId": "ee31390a-9aff-42dc-9ff5-7a936dc394e3"
      },
      "execution_count": null,
      "outputs": [
        {
          "output_type": "stream",
          "name": "stdout",
          "text": [
            "Mengunjungi: google.com\n",
            "Mengunjungi: youtube.com\n",
            "Mengunjungi: github.com\n",
            "Kembali ke: github.com\n",
            "Kembali ke: youtube.com\n"
          ]
        }
      ]
    },
    {
      "cell_type": "code",
      "source": [
        "#Latihan 2\n",
        "from collections import deque\n",
        "\n",
        "class BrowserHistory:\n",
        "    def __init__(self):\n",
        "        self.history = deque()\n",
        "\n",
        "    def visit(self, url):\n",
        "      self.history.append(url)\n",
        "      print(f\"Mengunjungi: {url}\")\n",
        "\n",
        "    def back(self):\n",
        "      if self.history:\n",
        "          print(f\"Kembali ke: {self.history.pop()}\")\n",
        "      else:\n",
        "          print(\"Tidak ada riwayat!\")\n",
        "\n",
        "browser = BrowserHistory()\n",
        "browser.visit(\"M09.com\")\n",
        "browser.visit(\"medium.com\")\n",
        "browser.visit(\"whatsaap.com\")\n",
        "\n",
        "browser.back()\n",
        "browser.back()"
      ],
      "metadata": {
        "colab": {
          "base_uri": "https://localhost:8080/"
        },
        "id": "G1wrpQ_7JhlU",
        "outputId": "8d468ed9-935b-4bfc-e19d-b653f140caa9"
      },
      "execution_count": null,
      "outputs": [
        {
          "output_type": "stream",
          "name": "stdout",
          "text": [
            "Mengunjungi: M09.com\n",
            "Mengunjungi: medium.com\n",
            "Mengunjungi: whatsaap.com\n",
            "Kembali ke: whatsaap.com\n",
            "Kembali ke: medium.com\n"
          ]
        }
      ]
    },
    {
      "cell_type": "markdown",
      "source": [
        "# **Latihan 3**"
      ],
      "metadata": {
        "id": "50K1W9WUPyFz"
      }
    },
    {
      "cell_type": "code",
      "source": [
        "from queue import LifoQueue\n",
        "\n",
        "class BackupSystem:\n",
        "    def __init__(self):\n",
        "        self.backups = LifoQueue()\n",
        "\n",
        "    def backup(self, version):\n",
        "        self.backups.put(version)\n",
        "\n",
        "    def latest_backup(self):\n",
        "        if not self.backups.empty():\n",
        "            return f\"Versi terbaru: {self.backups.queue[-1]}\"\n",
        "        return \"Tidak ada cadangan!\"\n",
        "\n",
        "#Contoh Penggunaan\n",
        "backup_system = BackupSystem()\n",
        "backup_system.backup(\"Backup_1\")\n",
        "backup_system.backup(\"Backup_2\")\n",
        "backup_system.backup(\"Backup_3\")\n",
        "\n",
        "print(backup_system.latest_backup())"
      ],
      "metadata": {
        "colab": {
          "base_uri": "https://localhost:8080/"
        },
        "id": "w06sVhW0QCv5",
        "outputId": "6a79f3fe-9481-4fb9-816c-161de3aa9ecb"
      },
      "execution_count": null,
      "outputs": [
        {
          "output_type": "stream",
          "name": "stdout",
          "text": [
            "Versi terbaru: Backup_3\n"
          ]
        }
      ]
    },
    {
      "cell_type": "code",
      "source": [
        "#Latihan 3\n",
        "from queue import LifoQueue\n",
        "\n",
        "class EmailDraft:\n",
        "    def __init__(self):\n",
        "        self.backups = LifoQueue()\n",
        "\n",
        "    def backup(self, version):\n",
        "        self.backups.put(version)\n",
        "\n",
        "    def latest_backup(self):\n",
        "        if not self.backups.empty():\n",
        "            return f\"Email terbaru: {self.backups.queue[-1]}\"\n",
        "        return \"Tidak ada cadangan!\"\n",
        "\n",
        "backup_system = EmailDraft()\n",
        "backup_system.backup(\"Fi01\")\n",
        "backup_system.backup(\"Ra09\")\n",
        "backup_system.backup(\"Ya30\")\n",
        "\n",
        "print(backup_system.latest_backup())"
      ],
      "metadata": {
        "colab": {
          "base_uri": "https://localhost:8080/"
        },
        "id": "vqzSCHywY-Jy",
        "outputId": "ab24a2f6-1469-4831-e692-df3f2462dc3f"
      },
      "execution_count": null,
      "outputs": [
        {
          "output_type": "stream",
          "name": "stdout",
          "text": [
            "Email terbaru: Ya30\n"
          ]
        }
      ]
    },
    {
      "cell_type": "markdown",
      "source": [
        "# **Latihan 4**"
      ],
      "metadata": {
        "id": "CqD9fTKoP2w3"
      }
    },
    {
      "cell_type": "code",
      "source": [
        "class CustomerService:\n",
        "    def __init__(self):\n",
        "        self.tickets = []\n",
        "\n",
        "    def add_ticket(self, ticket):\n",
        "        self.tickets.append(ticket)\n",
        "\n",
        "    def process_ticket(self):\n",
        "        if not self.is_empty():\n",
        "            return f\"Memproses tiket: {self.tickets.pop()}\"\n",
        "        return \"Tidak ada tiket yang harus diproses.\"\n",
        "\n",
        "    def is_empty(self):\n",
        "        return len(self.tickets) == 0\n",
        "\n",
        "#Contohh Penggunaan\n",
        "service = CustomerService()\n",
        "service.add_ticket(\"Tiket 001\")\n",
        "service.add_ticket(\"Tiket 002\")\n",
        "\n",
        "print(service.process_ticket())\n",
        "print(service.is_empty())"
      ],
      "metadata": {
        "colab": {
          "base_uri": "https://localhost:8080/"
        },
        "id": "QiafPp6fbByh",
        "outputId": "228acaa1-9518-4870-f176-ca8d2d89f112"
      },
      "execution_count": null,
      "outputs": [
        {
          "output_type": "stream",
          "name": "stdout",
          "text": [
            "Memproses tiket: Tiket 002\n",
            "False\n"
          ]
        }
      ]
    },
    {
      "cell_type": "code",
      "source": [
        "#Latihan 4\n",
        "class watchfilm:\n",
        "    def __init__(self):\n",
        "        self.tickets = []\n",
        "\n",
        "    def add_ticket(self, ticket):\n",
        "        self.tickets.append(ticket)\n",
        "\n",
        "    def process_ticket(self):\n",
        "        if not self.is_empty():\n",
        "            return f\"Memproses tiket: {self.tickets.pop()}\"\n",
        "        return \"Tidak ada tiket yang harus diproses.\"\n",
        "\n",
        "    def is_empty(self):\n",
        "        return len(self.tickets) == 0\n",
        "\n",
        "    def show(self):\n",
        "      return f\"Tiket film : {self.tickets}\\n\"\n",
        "\n",
        "service = watchfilm()\n",
        "service.add_ticket(\"M09 #1\")\n",
        "service.add_ticket(\"M09 #2\")\n",
        "service.add_ticket(\"M09 #3\")\n",
        "service.add_ticket(\"M09 #4\")\n",
        "service.add_ticket(\"M09 #5\")\n",
        "\n",
        "print(service.show())\n",
        "print(service.process_ticket())"
      ],
      "metadata": {
        "colab": {
          "base_uri": "https://localhost:8080/"
        },
        "id": "rg1bxUJ4b534",
        "outputId": "787bcf98-f64f-4822-b70d-1c7e648e98bc"
      },
      "execution_count": 7,
      "outputs": [
        {
          "output_type": "stream",
          "name": "stdout",
          "text": [
            "Tiket film : ['M09 #1', 'M09 #2', 'M09 #3', 'M09 #4', 'M09 #5']\n",
            "\n",
            "Memproses tiket: M09 #5\n"
          ]
        }
      ]
    }
  ]
}