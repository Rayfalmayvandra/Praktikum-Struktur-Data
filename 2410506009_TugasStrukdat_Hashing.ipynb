{
  "nbformat": 4,
  "nbformat_minor": 0,
  "metadata": {
    "colab": {
      "provenance": [],
      "authorship_tag": "ABX9TyOPaVmQ14ufY4pCkKA9KI4+",
      "include_colab_link": true
    },
    "kernelspec": {
      "name": "python3",
      "display_name": "Python 3"
    },
    "language_info": {
      "name": "python"
    }
  },
  "cells": [
    {
      "cell_type": "markdown",
      "metadata": {
        "id": "view-in-github",
        "colab_type": "text"
      },
      "source": [
        "<a href=\"https://colab.research.google.com/github/Rayfalmayvandra/Praktikum-Struktur-Data/blob/main/2410506009_TugasStrukdat_Hashing.ipynb\" target=\"_parent\"><img src=\"https://colab.research.google.com/assets/colab-badge.svg\" alt=\"Open In Colab\"/></a>"
      ]
    },
    {
      "cell_type": "markdown",
      "source": [
        "# **Eksperimen Sederhana Linear Probing**"
      ],
      "metadata": {
        "id": "1K_EwfAtXO_r"
      }
    },
    {
      "cell_type": "code",
      "execution_count": 2,
      "metadata": {
        "colab": {
          "base_uri": "https://localhost:8080/"
        },
        "id": "fH8T6VHlXOAR",
        "outputId": "21cf56a9-6a81-4ee0-e148-58d286a7f085"
      },
      "outputs": [
        {
          "output_type": "stream",
          "name": "stdout",
          "text": [
            "Isi tabel Linear Probing:\n",
            "Slot 0: ('B', 20)\n",
            "Slot 1: ('C', 30)\n",
            "Slot 2: ('D', 40)\n",
            "Slot 3: ('E', 50)\n",
            "Slot 4: ('A', 10)\n"
          ]
        }
      ],
      "source": [
        "class LinearProbingHashTable:\n",
        "    def __init__(self, size):\n",
        "        self.size = size\n",
        "        self.table = [None] * size\n",
        "\n",
        "    def hash(self, key):\n",
        "        return hash(key) % self.size\n",
        "\n",
        "    def insert(self, key, value):\n",
        "        idx = self.hash(key)\n",
        "        original_idx = idx\n",
        "        while self.table[idx] is not None:\n",
        "            idx = (idx + 1) % self.size\n",
        "            if idx == original_idx:\n",
        "                print(\"Hash table penuh!\")\n",
        "                return\n",
        "        self.table[idx] = (key, value)\n",
        "\n",
        "    def display(self):\n",
        "        for i, item in enumerate(self.table):\n",
        "            print(f\"Slot {i}: {item}\")\n",
        "\n",
        "\n",
        "#Buat objek\n",
        "ht = LinearProbingHashTable(5)\n",
        "\n",
        "#Memasukkan data\n",
        "data = {\"A\": 10, \"B\": 20, \"C\": 30, \"D\": 40, \"E\": 50}\n",
        "for k, v in data.items():\n",
        "    ht.insert(k, v)\n",
        "\n",
        "#Fungsi cetak isi tabel\n",
        "print(\"Isi tabel Linear Probing:\")\n",
        "ht.display()"
      ]
    },
    {
      "cell_type": "markdown",
      "source": [
        "# **Percobaan Dasar Chaining**"
      ],
      "metadata": {
        "id": "gEOjzBPxX983"
      }
    },
    {
      "cell_type": "code",
      "source": [
        "class ChainingHashTable:\n",
        "    def __init__(self, size):\n",
        "        self.size = size\n",
        "        self.table = [[] for _ in range(size)]\n",
        "\n",
        "    def hash(self, key):\n",
        "        return hash(key) % self.size\n",
        "\n",
        "    def insert(self, key, value):\n",
        "        idx = self.hash(key)\n",
        "        self.table[idx].append((key, value))\n",
        "\n",
        "    def display(self):\n",
        "        for i, slot in enumerate(self.table):\n",
        "            print(f\"Slot {i}: {slot}\")\n",
        "\n",
        "#Ukuran tabel 3\n",
        "cht = ChainingHashTable(3)\n",
        "\n",
        "#Memasukkan data\n",
        "data = {\"apel\": 100, \"melon\": 200, \"lemon\": 300, \"pisang\": 400}\n",
        "for k, v in data.items():\n",
        "    cht.insert(k, v)\n",
        "\n",
        "#Cetak isi tabel\n",
        "print(\"\\nIsi tabel Chaining:\")\n",
        "cht.display()"
      ],
      "metadata": {
        "colab": {
          "base_uri": "https://localhost:8080/"
        },
        "id": "-kB_I-t_YDIc",
        "outputId": "adc4ad5a-991f-4fc7-9d8c-87158844ba61"
      },
      "execution_count": 5,
      "outputs": [
        {
          "output_type": "stream",
          "name": "stdout",
          "text": [
            "\n",
            "Isi tabel Chaining:\n",
            "Slot 0: [('apel', 100), ('pisang', 400)]\n",
            "Slot 1: [('melon', 200)]\n",
            "Slot 2: [('lemon', 300)]\n"
          ]
        }
      ]
    }
  ]
}