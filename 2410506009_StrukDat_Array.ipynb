{
  "nbformat": 4,
  "nbformat_minor": 0,
  "metadata": {
    "colab": {
      "provenance": [],
      "authorship_tag": "ABX9TyMb4NGw4BVy8Cub2lfj2iW2",
      "include_colab_link": true
    },
    "kernelspec": {
      "name": "python3",
      "display_name": "Python 3"
    },
    "language_info": {
      "name": "python"
    }
  },
  "cells": [
    {
      "cell_type": "markdown",
      "metadata": {
        "id": "view-in-github",
        "colab_type": "text"
      },
      "source": [
        "<a href=\"https://colab.research.google.com/github/Rayfalmayvandra/Praktikum-Struktur-Data/blob/main/2410506009_StrukDat_Array.ipynb\" target=\"_parent\"><img src=\"https://colab.research.google.com/assets/colab-badge.svg\" alt=\"Open In Colab\"/></a>"
      ]
    },
    {
      "cell_type": "markdown",
      "source": [
        "# **Latihan 1**"
      ],
      "metadata": {
        "id": "DcLvRWywg5kk"
      }
    },
    {
      "cell_type": "code",
      "execution_count": null,
      "metadata": {
        "colab": {
          "base_uri": "https://localhost:8080/"
        },
        "id": "72mo9PSwg2r8",
        "outputId": "67d94ba1-741a-44f0-cafd-d7f8e863d29f"
      },
      "outputs": [
        {
          "output_type": "stream",
          "name": "stdout",
          "text": [
            "Isi array angka: [10, 20, 30, 40, 50]\n"
          ]
        }
      ],
      "source": [
        "data = []\n",
        "\n",
        "#Inisialisasi array dengan elemen\n",
        "angka = [10, 20, 30, 40, 50]\n",
        "\n",
        "#Menampilkan isi array\n",
        "print(\"Isi array angka:\", angka)"
      ]
    },
    {
      "cell_type": "code",
      "source": [
        "#Latihan 1\n",
        "NPM = []\n",
        "NPM = [2410506009, 2410506010, 2410506011, 2410506012]\n",
        "print(\"Isi array NPM:\", NPM)"
      ],
      "metadata": {
        "colab": {
          "base_uri": "https://localhost:8080/"
        },
        "id": "mQ2ZttYcg-Gg",
        "outputId": "4775726d-ec98-4964-d593-fb2493aba08d"
      },
      "execution_count": null,
      "outputs": [
        {
          "output_type": "stream",
          "name": "stdout",
          "text": [
            "Isi array NPM: [2410506009, 2410506010, 2410506011, 2410506012]\n"
          ]
        }
      ]
    },
    {
      "cell_type": "markdown",
      "source": [
        "# **Latihan 2**"
      ],
      "metadata": {
        "id": "5rGtJz8ZhIzT"
      }
    },
    {
      "cell_type": "code",
      "source": [
        "#Mengakses elemen Array\n",
        "print(\"Elemen pertama:\", angka[0]) #Elemen pertama\n",
        "print(\"Elemen tekahir:\", angka[-1]) #Elemen terakhir"
      ],
      "metadata": {
        "colab": {
          "base_uri": "https://localhost:8080/"
        },
        "id": "VOiTlwbghHFz",
        "outputId": "2a106923-69bd-448c-9395-8ed96d16cfc9"
      },
      "execution_count": null,
      "outputs": [
        {
          "output_type": "stream",
          "name": "stdout",
          "text": [
            "Elemen pertama: 10\n",
            "Elemen tekahir: 50\n"
          ]
        }
      ]
    },
    {
      "cell_type": "code",
      "source": [
        "#Menambah elemen menggunakan append()\n",
        "angka.append(60) #\n",
        "print(\"Array setelah penambahan elemen:\", angka)\n",
        "\n",
        "#Menambah elemen menggunakan insert()\n",
        "angka.insert(2, 25) #Menyisipkan 25 di indeks ke-2\n",
        "print(\"Array setelah penambahan elemen dengan insert:\", angka)"
      ],
      "metadata": {
        "colab": {
          "base_uri": "https://localhost:8080/"
        },
        "id": "ScZ31SXDhMW-",
        "outputId": "2edc157d-6c2f-4573-dc11-39ac97dd088c"
      },
      "execution_count": null,
      "outputs": [
        {
          "output_type": "stream",
          "name": "stdout",
          "text": [
            "Array setelah penambahan elemen: [10, 20, 30, 40, 50, 60]\n",
            "Array setelah penambahan elemen dengan insert: [10, 20, 25, 30, 40, 50, 60]\n"
          ]
        }
      ]
    },
    {
      "cell_type": "code",
      "source": [
        "#Menghapus elemen menggunakan remove()\n",
        "angka.remove(25)\n",
        "print(\"Array setelah menghapus elemen 25:\", angka)\n",
        "\n",
        "#Menghapus elemen menggunakan pop()\n",
        "angka.pop(2) #Menghapus elemen pada indeks ke-2\n",
        "print(\"Array setelah menghapus elemen pada indeks 2:\", angka)"
      ],
      "metadata": {
        "colab": {
          "base_uri": "https://localhost:8080/"
        },
        "id": "bFVEb7MAhPQ2",
        "outputId": "90d42830-c9e2-4107-9b27-542db65fd736"
      },
      "execution_count": null,
      "outputs": [
        {
          "output_type": "stream",
          "name": "stdout",
          "text": [
            "Array setelah menghapus elemen 25: [10, 20, 30, 40, 50, 60]\n",
            "Array setelah menghapus elemen pada indeks 2: [10, 20, 40, 50, 60]\n"
          ]
        }
      ]
    },
    {
      "cell_type": "code",
      "source": [
        "#Mengubah elemen pada indeks 0\n",
        "angka[0] = 100\n",
        "print(\"Array setelah mengubah elemen pertama:\", angka)"
      ],
      "metadata": {
        "colab": {
          "base_uri": "https://localhost:8080/"
        },
        "id": "JDuPD43EhR9_",
        "outputId": "56d24920-cfe2-4fe8-fa65-964aea2fc658"
      },
      "execution_count": null,
      "outputs": [
        {
          "output_type": "stream",
          "name": "stdout",
          "text": [
            "Array setelah mengubah elemen pertama: [100, 20, 40, 50, 60]\n"
          ]
        }
      ]
    },
    {
      "cell_type": "code",
      "source": [
        "#Latihan 2\n",
        "angka.append(9)\n",
        "print(\"Array setelah penambahan elemen:\", angka)\n",
        "angka.pop(0)\n",
        "print(\"Array setelah penghapusan elemen:\", angka)"
      ],
      "metadata": {
        "colab": {
          "base_uri": "https://localhost:8080/"
        },
        "id": "SexT5ohnhVT-",
        "outputId": "ee920bc3-02fe-4499-b6bb-df44000c17ff"
      },
      "execution_count": null,
      "outputs": [
        {
          "output_type": "stream",
          "name": "stdout",
          "text": [
            "Array setelah penambahan elemen: [100, 20, 40, 50, 60, 9]\n",
            "Array setelah penghapusan elemen: [20, 40, 50, 60, 9]\n"
          ]
        }
      ]
    },
    {
      "cell_type": "markdown",
      "source": [
        "# **Latihan 3**"
      ],
      "metadata": {
        "id": "itz13dfShdZ7"
      }
    },
    {
      "cell_type": "code",
      "source": [
        "angka = [10, 20, 30, 40]\n",
        "for nilai in angka:\n",
        "    print(\"Nilai\", nilai)"
      ],
      "metadata": {
        "colab": {
          "base_uri": "https://localhost:8080/"
        },
        "id": "QFKNEglfhafW",
        "outputId": "4223acc7-d0d1-4134-fc4d-611ef4a439d2"
      },
      "execution_count": null,
      "outputs": [
        {
          "output_type": "stream",
          "name": "stdout",
          "text": [
            "Nilai 10\n",
            "Nilai 20\n",
            "Nilai 30\n",
            "Nilai 40\n"
          ]
        }
      ]
    },
    {
      "cell_type": "code",
      "source": [
        "#Latihan 3\n",
        "fakultas = [\"Teknik\", \"Pertanian\", \"Ekonomi\", \"Pendidikan\", \"Ilmu Politik dan Hukum\"]\n",
        "for fakultas in fakultas:\n",
        "    print(\"Fakultas\", fakultas)"
      ],
      "metadata": {
        "colab": {
          "base_uri": "https://localhost:8080/"
        },
        "id": "yJVawwE0hjmf",
        "outputId": "1ff02ebc-98c9-45b7-874f-254e9b81e0a9"
      },
      "execution_count": null,
      "outputs": [
        {
          "output_type": "stream",
          "name": "stdout",
          "text": [
            "Fakultas Teknik\n",
            "Fakultas Pertanian\n",
            "Fakultas Ekonomi\n",
            "Fakultas Pendidikan\n",
            "Fakultas Ilmu Politik dan Hukum\n"
          ]
        }
      ]
    },
    {
      "cell_type": "markdown",
      "source": [
        "# **Latihan 4**"
      ],
      "metadata": {
        "id": "mi0xXC2UhpDT"
      }
    },
    {
      "cell_type": "code",
      "source": [
        "angka = [10, 20, 30, 40]\n",
        "\n",
        "print(\"Jumlah total:\", sum(angka))\n",
        "print(\"Nilai maksimum:\", max(angka))\n",
        "print(\"Nilai minimum\", min(angka))"
      ],
      "metadata": {
        "colab": {
          "base_uri": "https://localhost:8080/"
        },
        "id": "RcXkbuL4hm0e",
        "outputId": "986d985e-a2e7-47b5-cbab-97e11ff87591"
      },
      "execution_count": null,
      "outputs": [
        {
          "output_type": "stream",
          "name": "stdout",
          "text": [
            "Jumlah total: 100\n",
            "Nilai maksimum: 40\n",
            "Nilai minimum 10\n"
          ]
        }
      ]
    },
    {
      "cell_type": "code",
      "source": [
        "#Latihan 4\n",
        "harga_barang = [1000, 2000, 3000, 4000, 5000]\n",
        "print(\"Jumlah total:\", sum(harga_barang))\n",
        "print(\"Harga tertinggi:\", max(harga_barang))\n",
        "print(\"Harga terendah:\", min(harga_barang))"
      ],
      "metadata": {
        "id": "z-GSBNoNhw_H",
        "colab": {
          "base_uri": "https://localhost:8080/"
        },
        "outputId": "f5082df0-303e-473d-ed25-31b67aaae092"
      },
      "execution_count": null,
      "outputs": [
        {
          "output_type": "stream",
          "name": "stdout",
          "text": [
            "Jumlah total: 15000\n",
            "Harga tertinggi: 5000\n",
            "Harga terendah: 1000\n"
          ]
        }
      ]
    },
    {
      "cell_type": "markdown",
      "source": [
        "# **Latihan 5**"
      ],
      "metadata": {
        "id": "9XaIg_6akE9B"
      }
    },
    {
      "cell_type": "code",
      "source": [
        "matriks = [\n",
        "    [1, 2, 3],\n",
        "    [4, 5, 6],\n",
        "    [7, 8, 9]\n",
        "]\n",
        "\n",
        "print(\"Isi array 2D:\")\n",
        "for baris in matriks:\n",
        "    print(baris)"
      ],
      "metadata": {
        "colab": {
          "base_uri": "https://localhost:8080/"
        },
        "id": "AHnX2eAxkCUI",
        "outputId": "c91eaa36-eb3c-4d8a-e74b-682c76323b5f"
      },
      "execution_count": null,
      "outputs": [
        {
          "output_type": "stream",
          "name": "stdout",
          "text": [
            "Isi array 2D:\n",
            "[1, 2, 3]\n",
            "[4, 5, 6]\n",
            "[7, 8, 9]\n"
          ]
        }
      ]
    },
    {
      "cell_type": "code",
      "source": [
        "#Latihan 5\n",
        "matriks = [\n",
        "    [1, 2, 3, 4],\n",
        "    [5, 6, 7, 8],\n",
        "    [9, 10, 11, 12]\n",
        "]\n",
        "\n",
        "print(\"Isi array 2D:\")\n",
        "for baris in matriks:\n",
        "    print(baris)"
      ],
      "metadata": {
        "colab": {
          "base_uri": "https://localhost:8080/"
        },
        "id": "Pwkqa0czkKML",
        "outputId": "ce24ac67-1c7c-4dbc-e70f-08225833cd86"
      },
      "execution_count": null,
      "outputs": [
        {
          "output_type": "stream",
          "name": "stdout",
          "text": [
            "Isi array 2D:\n",
            "[1, 2, 3, 4]\n",
            "[5, 6, 7, 8]\n",
            "[9, 10, 11, 12]\n"
          ]
        }
      ]
    },
    {
      "cell_type": "markdown",
      "source": [
        "# **Latihan 6**"
      ],
      "metadata": {
        "id": "vgB4ko_EkT_P"
      }
    },
    {
      "cell_type": "code",
      "source": [
        "#Mengakses elemen pada baris ke-1, kolom ke-2 (indeks [0][1])\n",
        "print(\"Elemen pada baris 1, kolom 2:\", matriks[0][1])\n",
        "\n",
        "#Mengakses elemen terakhir (baris ke-3, kolom ke-3)\n",
        "print(\"Elemen terakhir:\", matriks[-1][-1])"
      ],
      "metadata": {
        "colab": {
          "base_uri": "https://localhost:8080/"
        },
        "id": "P7uMlU1BkQLK",
        "outputId": "a05f5e17-7212-4073-a308-75d55dd49b5f"
      },
      "execution_count": null,
      "outputs": [
        {
          "output_type": "stream",
          "name": "stdout",
          "text": [
            "Elemen pada baris 1, kolom 2: 2\n",
            "Elemen terakhir: 12\n"
          ]
        }
      ]
    },
    {
      "cell_type": "code",
      "source": [
        "#Latihan 6\n",
        "print(\"Elemen pada baris 2, kolom 4:\", matriks[1][3])\n",
        "print(\"Elemen terakhir:\", matriks[-1][-1])"
      ],
      "metadata": {
        "colab": {
          "base_uri": "https://localhost:8080/"
        },
        "id": "qEr6jI1MkZK3",
        "outputId": "b0b61bc5-59bb-4e70-edc2-8587a47e947d"
      },
      "execution_count": null,
      "outputs": [
        {
          "output_type": "stream",
          "name": "stdout",
          "text": [
            "Elemen pada baris 2, kolom 4: 8\n",
            "Elemen terakhir: 12\n"
          ]
        }
      ]
    },
    {
      "cell_type": "markdown",
      "source": [
        "# **Latihan 7**"
      ],
      "metadata": {
        "id": "AQTtXCPNmUiw"
      }
    },
    {
      "cell_type": "code",
      "source": [
        "#Menambahkan baris baru\n",
        "matriks.append([10, 11, 12])\n",
        "print(\"Array setelah menambahkan baris baru:\", matriks)\n",
        "\n",
        "#Menambahkan elemen pada baris ke-2\n",
        "matriks[1].append(99)\n",
        "print(\"Array setelah menambahkan elemen pada baris ke-2:\", matriks)"
      ],
      "metadata": {
        "colab": {
          "base_uri": "https://localhost:8080/"
        },
        "id": "Uxgu6tcTkeW1",
        "outputId": "19e16f31-d4d6-49fc-e09c-0f4efa10cc50"
      },
      "execution_count": null,
      "outputs": [
        {
          "output_type": "stream",
          "name": "stdout",
          "text": [
            "Array setelah menambahkan baris baru: [[1, 2, 3, 4], [5, 6, 7, 8], [9, 10, 11, 12], [10, 11, 12]]\n",
            "Array setelah menambahkan elemen pada baris ke-2: [[1, 2, 3, 4], [5, 6, 7, 8, 99], [9, 10, 11, 12], [10, 11, 12]]\n"
          ]
        }
      ]
    },
    {
      "cell_type": "code",
      "source": [
        "#Latihan 7\n",
        "matriks.append([29, 5, 20, 5])\n",
        "print(\"Array setelah menambahkan baris baru:\", matriks)"
      ],
      "metadata": {
        "colab": {
          "base_uri": "https://localhost:8080/"
        },
        "id": "w7Pf0UHuohP_",
        "outputId": "b2f186db-3c1e-4268-d14a-c7b8752c0aaa"
      },
      "execution_count": null,
      "outputs": [
        {
          "output_type": "stream",
          "name": "stdout",
          "text": [
            "Array setelah menambahkan baris baru: [[1, 2, 3, 4], [5, 6, 7, 8, 99], [9, 10, 11, 12], [10, 11, 12], [29, 5, 20, 5]]\n"
          ]
        }
      ]
    },
    {
      "cell_type": "markdown",
      "source": [
        "# **Latihan 8**"
      ],
      "metadata": {
        "id": "zZNsfL5Op3vi"
      }
    },
    {
      "cell_type": "code",
      "source": [
        "#Menghapus elemen tertentu dari baris ke-1\n",
        "matriks[0].remove(2)\n",
        "print(\"Array setelah menghapus elemen 2 dari baris pertama:\", matriks)\n",
        "\n",
        "#Menghapus elemen pada indeks tertentu dari baris ke-2\n",
        "matriks[1].pop(1)\n",
        "print(\"Array setelah menghapus elemen pada indeks 1 dari baris ke-2:\", matriks)"
      ],
      "metadata": {
        "colab": {
          "base_uri": "https://localhost:8080/"
        },
        "id": "fcB8G_48ptWD",
        "outputId": "4c38bd0b-33f2-4a70-e2dc-a34df43354d2"
      },
      "execution_count": null,
      "outputs": [
        {
          "output_type": "stream",
          "name": "stdout",
          "text": [
            "Array setelah menghapus elemen 2 dari baris pertama: [[1, 3, 4], [5, 6, 7, 8, 99], [9, 10, 11, 12], [10, 11, 12], [29, 5, 20, 5]]\n",
            "Array setelah menghapus elemen pada indeks 1 dari baris ke-2: [[1, 3, 4], [5, 7, 8, 99], [9, 10, 11, 12], [10, 11, 12], [29, 5, 20, 5]]\n"
          ]
        }
      ]
    },
    {
      "cell_type": "code",
      "source": [
        "#Latihan 8\n",
        "matriks[-1].pop(2)\n",
        "print(\"Array setelah menghapus elemen ke-3 dari baris terakhir\", matriks)"
      ],
      "metadata": {
        "colab": {
          "base_uri": "https://localhost:8080/"
        },
        "id": "3ZUg6AT9wpGA",
        "outputId": "508befb3-d164-43fa-a404-dd150c77aa9b"
      },
      "execution_count": null,
      "outputs": [
        {
          "output_type": "stream",
          "name": "stdout",
          "text": [
            "Array setelah menghapus elemen ke-3 dari baris terakhir [[1, 3, 4], [5, 7, 8, 99], [9, 10, 11, 12], [10, 11, 12], [29, 5, 5]]\n"
          ]
        }
      ]
    },
    {
      "cell_type": "markdown",
      "source": [
        "# **Latihan 9**"
      ],
      "metadata": {
        "id": "UJejmAQDxjkO"
      }
    },
    {
      "cell_type": "code",
      "source": [
        "#Mengubah elemen pada baris ke-3, kolom ke-2\n",
        "matriks[2][1] = 88\n",
        "print(\"Array setelah mengubah elemen baris ke-3, kolom ke-2:\", matriks)"
      ],
      "metadata": {
        "colab": {
          "base_uri": "https://localhost:8080/"
        },
        "id": "PtmZ7-gdw6r4",
        "outputId": "28d69b6c-2bbd-4701-b13e-003d7f6b90fc"
      },
      "execution_count": null,
      "outputs": [
        {
          "output_type": "stream",
          "name": "stdout",
          "text": [
            "Array setelah mengubah elemen baris ke-3, kolom ke-2: [[1, 3, 4], [5, 7, 8, 99], [9, 88, 11, 12], [10, 11, 12], [29, 5, 5]]\n"
          ]
        }
      ]
    },
    {
      "cell_type": "code",
      "source": [
        "#Latihan 9\n",
        "matriks[4][2] = 14\n",
        "print(\"Array setelah mengubah elemen pada baris terakhir kolom terakhir dengan tanggal hari ini:\",  matriks)"
      ],
      "metadata": {
        "colab": {
          "base_uri": "https://localhost:8080/"
        },
        "id": "bg1wYK4TyE8c",
        "outputId": "1621666b-135a-4ab6-835a-7be8d3b4c796"
      },
      "execution_count": null,
      "outputs": [
        {
          "output_type": "stream",
          "name": "stdout",
          "text": [
            "Array setelah mengubah elemen pada baris terakhir kolom terakhir dengan tanggal hari ini: [[1, 3, 4], [5, 7, 8, 99], [9, 88, 11, 12], [10, 11, 12], [29, 5, 14]]\n"
          ]
        }
      ]
    },
    {
      "cell_type": "markdown",
      "source": [
        "# **Latihan 10**"
      ],
      "metadata": {
        "id": "1U2g_Oxqzd1l"
      }
    },
    {
      "cell_type": "code",
      "source": [
        "belanja = [\"Beras\", \"Gula\", \"Minyak\"]\n",
        "belanja.append(\"Teh\")\n",
        "belanja.remove(\"Gula\")\n",
        "print(\"Daftar belanja terbaru:\", belanja)"
      ],
      "metadata": {
        "colab": {
          "base_uri": "https://localhost:8080/"
        },
        "id": "-2gYVjAmzZut",
        "outputId": "a9c097de-1250-4096-e491-2a7dde8bc219"
      },
      "execution_count": null,
      "outputs": [
        {
          "output_type": "stream",
          "name": "stdout",
          "text": [
            "Daftar belanja terbaru: ['Beras', 'Minyak', 'Teh']\n"
          ]
        }
      ]
    },
    {
      "cell_type": "code",
      "source": [
        "#Latihan 10\n",
        "belanja_rayfal = [\"Indomie\", \"Susu\", \"Cola\"]\n",
        "belanja_rayfal.append(\"Snack\")\n",
        "belanja_rayfal.remove(\"Cola\")\n",
        "print(\"Daftar belanja rayfal terbaru:\", belanja_rayfal)"
      ],
      "metadata": {
        "colab": {
          "base_uri": "https://localhost:8080/"
        },
        "id": "AlRTw0u0z4bp",
        "outputId": "ec9639cd-2362-4e36-e74b-c738bf7d7623"
      },
      "execution_count": null,
      "outputs": [
        {
          "output_type": "stream",
          "name": "stdout",
          "text": [
            "Daftar belanja rayfal terbaru: ['Indomie', 'Susu', 'Snack']\n"
          ]
        }
      ]
    }
  ]
}