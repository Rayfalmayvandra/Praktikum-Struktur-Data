{
  "nbformat": 4,
  "nbformat_minor": 0,
  "metadata": {
    "colab": {
      "provenance": [],
      "authorship_tag": "ABX9TyOGPDW1eO7apEO7qeq/9Rxk",
      "include_colab_link": true
    },
    "kernelspec": {
      "name": "python3",
      "display_name": "Python 3"
    },
    "language_info": {
      "name": "python"
    }
  },
  "cells": [
    {
      "cell_type": "markdown",
      "metadata": {
        "id": "view-in-github",
        "colab_type": "text"
      },
      "source": [
        "<a href=\"https://colab.research.google.com/github/Rayfalmayvandra/Praktikum-Struktur-Data/blob/main/2410506009_tugasstrukdat_array.ipynb\" target=\"_parent\"><img src=\"https://colab.research.google.com/assets/colab-badge.svg\" alt=\"Open In Colab\"/></a>"
      ]
    },
    {
      "cell_type": "code",
      "execution_count": null,
      "metadata": {
        "colab": {
          "base_uri": "https://localhost:8080/"
        },
        "id": "w73OA-yP1Nf3",
        "outputId": "e4a7e5a1-5e5a-435e-bd07-4eb3bd870582"
      },
      "outputs": [
        {
          "output_type": "stream",
          "name": "stdout",
          "text": [
            "Selamat datang di Treasure Hunt! Peta memiliki (size) lokasi (0 hingga 9).\n",
            "Masukkan lokasi harta karun (0-(size-1)): 2\n",
            "\n",
            "Harta karusn telah disembunyikan! Sekarang giliran pemain menebak.\n",
            "Cobalah untuk menemukan harta karun dengan menebak indeks yang benar.\n",
            "\n",
            "Peta saat ini:  ['_', '_', '_', '_', '_', '_', '_', '_', '_', '_']\n",
            "Maasukkan indeks tebakanmu (0-(size-1)): 2\n",
            "Selamat! Kamu menemukan harta karun di lokasi: 2\n",
            "Terima kasih sudah bermain!\n"
          ]
        }
      ],
      "source": [
        "# Ukuran peta\n",
        "size = 10\n",
        "\n",
        "# Membuat peta dengan harta karun tersembunyi\n",
        "treasure_map = [\"_\" for _ in range(size)]\n",
        "\n",
        "# Tentukan lokasi harta karun secara manual\n",
        "print(f\"Selamat datang di Treasure Hunt! Peta memiliki (size) lokasi (0 hingga {size-1}).\")\n",
        "treasure_index = int(input(f\"Masukkan lokasi harta karun (0-(size-1)): \"))\n",
        "while treasure_index < 0 or treasure_index >= size:\n",
        "    print(\"Lokasi tidak valid. Masukkan angka dalam rentang yang benar.\")\n",
        "    treasure_index = int(input(f\"Masukkan lokasi harta karun (0-(size-1)): \"))\n",
        "\n",
        "treasure_map[treasure_index] = \"X\" # Menyembunyikan harta karun di lokasi yang dipilih\n",
        "\n",
        "# Fungsi untuk memulai permainan\n",
        "def  play_treasure_hunt():\n",
        "    print(\"\\nHarta karusn telah disembunyikan! Sekarang giliran pemain menebak.\")\n",
        "    print(\"Cobalah untuk menemukan harta karun dengan menebak indeks yang benar.\")\n",
        "\n",
        "    # Loop permainan\n",
        "    while True:\n",
        "        # Menampilkan peta tersembunyi kepada pemain\n",
        "        print(\"\\nPeta saat ini: \", [\"_\" for _ in range(size)]) # Peta tersembunyi\n",
        "\n",
        "        # Input pemain\n",
        "        try:\n",
        "            guess = int(input(f\"Maasukkan indeks tebakanmu (0-(size-1)): \"))\n",
        "        except ValueError:\n",
        "            print(\"Masukkan angka yang valid!\")\n",
        "            continue\n",
        "\n",
        "        # Validasi input\n",
        "        if guess < 0 or guess >= size:\n",
        "            print(\"Indeks tidak valid, pilih antara 0 hingga\", size-1)\n",
        "            continue\n",
        "\n",
        "        # Mengecek apakah tebakan benar\n",
        "        if treasure_map[guess] == \"X\":\n",
        "            print(\"Selamat! Kamu menemukan harta karun di lokasi:\", guess)\n",
        "            break\n",
        "        else :\n",
        "            print(\"Tidak ada harta di lokasi ini. Coba lagi!\")\n",
        "    print(\"Terima kasih sudah bermain!\")\n",
        "\n",
        "# Jalankan permainan\n",
        "play_treasure_hunt()"
      ]
    },
    {
      "cell_type": "code",
      "source": [
        "import random\n",
        "# Ukuran peta\n",
        "size = int(input(\"Masukkan ukuran peta: \"))\n",
        "\n",
        "# Membuat peta dengan harta karun tersembunyi\n",
        "treasure_map = [\"_\" for _ in range(size)]\n",
        "\n",
        "# Tentukan lokasi harta karun secara manual\n",
        "print(f\"Selamat datang di Treasure Hunt! Peta memiliki (size) lokasi (0 hingga {size-1}).\")\n",
        "treasure_index = random.randint(0, size-1)\n",
        "\n",
        "treasure_map[treasure_index] = \"X\" # Menyembunyikan harta karun di lokasi yang dipilih\n",
        "\n",
        "# Fungsi untuk memulai permainan\n",
        "def  play_treasure_hunt():\n",
        "    print(\"\\nHarta karusn telah disembunyikan! Sekarang giliran pemain menebak.\")\n",
        "    print(\"Cobalah untuk menemukan harta karun dengan menebak indeks yang benar.\")\n",
        "\n",
        "    # Loop permainan\n",
        "    while True:\n",
        "        # Menampilkan peta tersembunyi kepada pemain\n",
        "        print(\"\\nPeta saat ini: \", [\"_\" for _ in range(size)]) # Peta tersembunyi\n",
        "\n",
        "        # Input pemain\n",
        "        try:\n",
        "            guess = int(input(f\"Masukkan indeks tebakanmu (0-(size-1)): \"))\n",
        "        except ValueError:\n",
        "            print(\"Masukkan angka yang valid!\")\n",
        "            continue\n",
        "\n",
        "        # Validasi input\n",
        "        if guess < 0 or guess >= size:\n",
        "            print(\"Indeks tidak valid, pilih antara 0 hingga\", size-1)\n",
        "            continue\n",
        "\n",
        "        # Mengecek apakah tebakan benar\n",
        "        if treasure_map[guess] == \"X\":\n",
        "            print(\"Selamat! Kamu menemukan harta karun di lokasi:\", guess)\n",
        "            break\n",
        "        else :\n",
        "            print(\"Tidak ada harta di lokasi ini. Coba lagi!\")\n",
        "    print(\"Terima kasih sudah bermain!\")\n",
        "\n",
        "# Jalankan permainan\n",
        "play_treasure_hunt()"
      ],
      "metadata": {
        "id": "Wd95xEUp5ayu",
        "colab": {
          "base_uri": "https://localhost:8080/"
        },
        "outputId": "d83b5ef2-d263-473b-b285-d76a3e60a39b"
      },
      "execution_count": null,
      "outputs": [
        {
          "output_type": "stream",
          "name": "stdout",
          "text": [
            "Masukkan ukuran peta: 2\n",
            "Selamat datang di Treasure Hunt! Peta memiliki (size) lokasi (0 hingga 1).\n",
            "\n",
            "Harta karusn telah disembunyikan! Sekarang giliran pemain menebak.\n",
            "Cobalah untuk menemukan harta karun dengan menebak indeks yang benar.\n",
            "\n",
            "Peta saat ini:  ['_', '_']\n",
            "Masukkan indeks tebakanmu (0-(size-1)): 2\n",
            "Indeks tidak valid, pilih antara 0 hingga 1\n",
            "\n",
            "Peta saat ini:  ['_', '_']\n",
            "Masukkan indeks tebakanmu (0-(size-1)): 1\n",
            "Tidak ada harta di lokasi ini. Coba lagi!\n",
            "\n",
            "Peta saat ini:  ['_', '_']\n",
            "Masukkan indeks tebakanmu (0-(size-1)): 0\n",
            "Selamat! Kamu menemukan harta karun di lokasi: 0\n",
            "Terima kasih sudah bermain!\n"
          ]
        }
      ]
    }
  ]
}