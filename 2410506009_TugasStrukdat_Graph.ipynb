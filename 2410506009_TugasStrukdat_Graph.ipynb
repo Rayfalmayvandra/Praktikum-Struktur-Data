{
  "nbformat": 4,
  "nbformat_minor": 0,
  "metadata": {
    "colab": {
      "provenance": [],
      "authorship_tag": "ABX9TyN/RRZQGQVVs6FfbonpG2tU",
      "include_colab_link": true
    },
    "kernelspec": {
      "name": "python3",
      "display_name": "Python 3"
    },
    "language_info": {
      "name": "python"
    }
  },
  "cells": [
    {
      "cell_type": "markdown",
      "metadata": {
        "id": "view-in-github",
        "colab_type": "text"
      },
      "source": [
        "<a href=\"https://colab.research.google.com/github/Rayfalmayvandra/Praktikum-Struktur-Data/blob/main/2410506009_TugasStrukdat_Graph.ipynb\" target=\"_parent\"><img src=\"https://colab.research.google.com/assets/colab-badge.svg\" alt=\"Open In Colab\"/></a>"
      ]
    },
    {
      "cell_type": "code",
      "execution_count": 18,
      "metadata": {
        "id": "4cVzGKtLw7F-",
        "colab": {
          "base_uri": "https://localhost:8080/"
        },
        "outputId": "96265f3b-7e72-45c6-e5f6-e7b4477586c5"
      },
      "outputs": [
        {
          "output_type": "stream",
          "name": "stdout",
          "text": [
            "Bentuk Graph :\n",
            "A: ['B', 'C']\n",
            "B: ['Y', 'D', 'E']\n",
            "C: ['R', 'F']\n",
            "D: ['F']\n",
            "E: ['B', 'L']\n",
            "F: ['M', 'E']\n",
            "\n",
            "=== Hasil BFS dari simpul A ===\n",
            "['A', 'B', 'C', 'Y', 'D', 'E', 'R', 'F', 'L', 'M']\n",
            "\n",
            "=== Hasil DFS dari simpul A ===\n",
            "A B Y D F M E L C R ['A', 'B', 'Y', 'D', 'F', 'M', 'E', 'L', 'C', 'R']\n",
            "\n",
            "=== Path dari A ke F ===\n",
            "['A', 'B', 'D', 'F']\n",
            "\n",
            "=== Apakah graf terhubung? ===\n",
            "True\n"
          ]
        }
      ],
      "source": [
        "from collections import deque\n",
        "\n",
        "#Buat graf tak berarah baru\n",
        "graph = {\n",
        "    'A': ['B', 'C'],\n",
        "    'B': ['Y', 'D', 'E'],\n",
        "    'C': ['R', 'F'],\n",
        "    'D': ['F'],\n",
        "    'E': ['B', 'L'],\n",
        "    'F': ['M', 'E']\n",
        "}\n",
        "\n",
        "#Fungsi untuk menampilkan graf\n",
        "def print_graph(graph):\n",
        "    print(\"Bentuk Graph :\")\n",
        "    for simpul in graph:\n",
        "        print(f\"{simpul}: {graph[simpul]}\")\n",
        "    print()\n",
        "\n",
        "#Implementasi BFS\n",
        "def bfs(graph, start):\n",
        "    visited = set()\n",
        "    queue = deque([start])\n",
        "    hasil = []\n",
        "\n",
        "    while queue:\n",
        "        simpul = queue.popleft()\n",
        "        if simpul not in visited:\n",
        "           hasil.append(simpul)\n",
        "           visited.add(simpul)\n",
        "           queue.extend([neighbor for neighbor in graph.get(simpul, []) if neighbor not in visited])\n",
        "    return hasil\n",
        "\n",
        "#Implementasi DFS\n",
        "def dfs(graph, start, visited=None, hasil=None):\n",
        "    if visited is None:\n",
        "        visited = set()\n",
        "    if hasil is None:\n",
        "      hasil = []\n",
        "    if start not in visited:\n",
        "        print(start, end=\" \")\n",
        "        visited.add(start)\n",
        "        hasil.append(start)\n",
        "        for neighbor in graph.get(start, []):\n",
        "            dfs (graph, neighbor, visited, hasil)\n",
        "    return hasil\n",
        "\n",
        "#Fungsi untuk mencari satu jalur dari start ke end menggunakan DFS\n",
        "def find_path(graph, start, end, path=None):\n",
        "    if path is None:\n",
        "        path = []\n",
        "    path = path + [start]\n",
        "    if start == end:\n",
        "        return path\n",
        "    for simpul in graph.get(start, []):\n",
        "        if simpul not in path:\n",
        "            new_path = find_path(graph, simpul, end, path)\n",
        "            if new_path:\n",
        "                return new_path\n",
        "    return None\n",
        "\n",
        "#Fungsi untuk mengecek apakah graph terhubung\n",
        "def cek_graph(graph):\n",
        "    simpul_awal = next(iter(graph))\n",
        "    visited = set()\n",
        "\n",
        "    def dfs_kunjungi(simpul):\n",
        "        if simpul not in visited:\n",
        "            visited.add(simpul)\n",
        "            for tetangga in graph.get(simpul, []):\n",
        "                dfs_kunjungi(tetangga)\n",
        "\n",
        "    dfs_kunjungi(simpul_awal)\n",
        "    semua_simpul = set(graph.keys())\n",
        "    for daftar in graph.values():\n",
        "        semua_simpul.update(daftar)\n",
        "\n",
        "    return visited == semua_simpul\n",
        "\n",
        "print_graph(graph)\n",
        "print(\"=== Hasil BFS dari simpul A ===\")\n",
        "print(bfs(graph, 'A'))\n",
        "print(\"\\n=== Hasil DFS dari simpul A ===\")\n",
        "print(dfs(graph, 'A'))\n",
        "print(\"\\n=== Path dari A ke F ===\")\n",
        "print(find_path(graph, 'A', 'F'))\n",
        "print(\"\\n=== Apakah graf terhubung? ===\")\n",
        "print(cek_graph(graph))"
      ]
    }
  ]
}