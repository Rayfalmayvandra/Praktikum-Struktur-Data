{
  "nbformat": 4,
  "nbformat_minor": 0,
  "metadata": {
    "colab": {
      "provenance": [],
      "authorship_tag": "ABX9TyMkfj8PG6nVKjY0Oq0A+XSF",
      "include_colab_link": true
    },
    "kernelspec": {
      "name": "python3",
      "display_name": "Python 3"
    },
    "language_info": {
      "name": "python"
    }
  },
  "cells": [
    {
      "cell_type": "markdown",
      "metadata": {
        "id": "view-in-github",
        "colab_type": "text"
      },
      "source": [
        "<a href=\"https://colab.research.google.com/github/Rayfalmayvandra/Praktikum-Struktur-Data/blob/main/2410506009_TugasStrukdat_Tree.ipynb\" target=\"_parent\"><img src=\"https://colab.research.google.com/assets/colab-badge.svg\" alt=\"Open In Colab\"/></a>"
      ]
    },
    {
      "cell_type": "markdown",
      "source": [
        "# **Tugas 1**"
      ],
      "metadata": {
        "id": "GlC9-4dgKJW3"
      }
    },
    {
      "cell_type": "code",
      "execution_count": 1,
      "metadata": {
        "id": "0EYis5QZoUCX",
        "colab": {
          "base_uri": "https://localhost:8080/"
        },
        "outputId": "51427380-52f8-48f4-e83b-66fa2e6250d4"
      },
      "outputs": [
        {
          "output_type": "stream",
          "name": "stdout",
          "text": [
            "Struktur Tree berdasarkan identitas saya:\n",
            "29 11 26 9 5 "
          ]
        }
      ],
      "source": [
        "class Node:\n",
        "    def __init__(self, data):\n",
        "        self.data = data\n",
        "        self.left = None\n",
        "        self.right = None\n",
        "\n",
        "def inorder(node):\n",
        "    if node:\n",
        "        inorder(node.left)\n",
        "        print(node.data, end=' ')\n",
        "        inorder(node.right)\n",
        "\n",
        "#Membangun tree\n",
        "root = Node(26)\n",
        "root.left = Node(11)\n",
        "root.right = Node(9)\n",
        "root.left.left = Node(29)\n",
        "root.right.right = Node(5)\n",
        "\n",
        "#Menampilkan inorder traversal\n",
        "print(\"Struktur Tree berdasarkan identitas saya:\")\n",
        "inorder(root)"
      ]
    },
    {
      "cell_type": "markdown",
      "source": [
        "# **Tugas 2**"
      ],
      "metadata": {
        "id": "pCfvld1TL5Jz"
      }
    },
    {
      "cell_type": "code",
      "source": [
        "class Node:\n",
        "    def __init__(self, key):\n",
        "        self.left = None\n",
        "        self.right = None\n",
        "        self.val = key\n",
        "\n",
        "#Menyisipkan data ke dalam BST\n",
        "def insert(root, key):\n",
        "    if root is None:\n",
        "        return Node(key)\n",
        "    if key < root.val:\n",
        "        root.left = insert(root.left, key)\n",
        "    else:\n",
        "        root.right = insert(root.right, key)\n",
        "    return root\n",
        "\n",
        "#Traversal\n",
        "def inorder(root):\n",
        "    if root:\n",
        "        inorder(root.left)\n",
        "        print(root.val, end=' ')\n",
        "        inorder(root.right)\n",
        "\n",
        "def preorder(root):\n",
        "    if root:\n",
        "        print(root.val, end=' ')\n",
        "        preorder(root.left)\n",
        "        preorder(root.right)\n",
        "\n",
        "def postorder(root):\n",
        "    if root:\n",
        "        postorder(root.left)\n",
        "        postorder(root.right)\n",
        "        print(root.val, end=' ')\n",
        "\n",
        "#Pencarian dalam BST\n",
        "def cari(root, key):\n",
        "    if root is None:\n",
        "        return False\n",
        "    if root.val == key:\n",
        "        return True\n",
        "    elif key < root.val:\n",
        "        return cari(root.left, key)\n",
        "    else:\n",
        "        return cari(root.right, key)\n",
        "\n",
        "#Data BST dari identitas\n",
        "data = [9, 29, 5, 114, 97, 6, 16]\n",
        "\n",
        "#Membuat BST\n",
        "bst_root = None\n",
        "for num in data:\n",
        "    bst_root = insert(bst_root, num)\n",
        "\n",
        "#Output traversal\n",
        "print(\"Inorder Traversal:\")\n",
        "inorder(bst_root)\n",
        "print(\"\\nPreorder Traversal:\")\n",
        "preorder(bst_root)\n",
        "print(\"\\nPostorder Traversal:\")\n",
        "postorder(bst_root)\n",
        "\n",
        "#Pencarian angka\n",
        "search_target_1 = 9    # dua digit terakhir dari NPM (009)\n",
        "search_target_2 = 50   # angka tidak ada dalam daftar\n",
        "\n",
        "print(f\"\\n\\nPencarian angka {search_target_1}: {'Ditemukan' if cari(bst_root, search_target_1) else 'Tidak ditemukan'}\")\n",
        "print(f\"Pencarian angka {search_target_2}: {'Ditemukan' if cari(bst_root, search_target_2) else 'Tidak ditemukan'}\")"
      ],
      "metadata": {
        "id": "YD66vt1DLym0",
        "colab": {
          "base_uri": "https://localhost:8080/"
        },
        "outputId": "8d3b85b1-1d86-463e-80a0-4477fcc42e39"
      },
      "execution_count": 5,
      "outputs": [
        {
          "output_type": "stream",
          "name": "stdout",
          "text": [
            "Inorder Traversal:\n",
            "5 6 9 16 29 97 114 \n",
            "Preorder Traversal:\n",
            "9 5 6 29 16 114 97 \n",
            "Postorder Traversal:\n",
            "6 5 16 97 114 29 9 \n",
            "\n",
            "Pencarian angka 9: Ditemukan\n",
            "Pencarian angka 50: Tidak ditemukan\n"
          ]
        }
      ]
    }
  ]
}