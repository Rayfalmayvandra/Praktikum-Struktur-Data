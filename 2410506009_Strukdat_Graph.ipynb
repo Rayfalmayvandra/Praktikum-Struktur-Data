{
  "nbformat": 4,
  "nbformat_minor": 0,
  "metadata": {
    "colab": {
      "provenance": [],
      "authorship_tag": "ABX9TyPoX7EIaA5htew80EHF/0qR",
      "include_colab_link": true
    },
    "kernelspec": {
      "name": "python3",
      "display_name": "Python 3"
    },
    "language_info": {
      "name": "python"
    }
  },
  "cells": [
    {
      "cell_type": "markdown",
      "metadata": {
        "id": "view-in-github",
        "colab_type": "text"
      },
      "source": [
        "<a href=\"https://colab.research.google.com/github/Rayfalmayvandra/Praktikum-Struktur-Data/blob/main/2410506009_Strukdat_Graph.ipynb\" target=\"_parent\"><img src=\"https://colab.research.google.com/assets/colab-badge.svg\" alt=\"Open In Colab\"/></a>"
      ]
    },
    {
      "cell_type": "markdown",
      "source": [
        "# **Representasi Graf dengan Adjacency List**"
      ],
      "metadata": {
        "id": "13WW67lVxFcT"
      }
    },
    {
      "cell_type": "code",
      "execution_count": null,
      "metadata": {
        "colab": {
          "base_uri": "https://localhost:8080/"
        },
        "id": "5aaxMmHPuqoP",
        "outputId": "3259f695-a025-43ba-8586-216208d218bd"
      },
      "outputs": [
        {
          "output_type": "stream",
          "name": "stdout",
          "text": [
            "A -> ['B', 'C']\n",
            "B -> ['A', 'D', 'E']\n",
            "C -> ['A', 'F']\n",
            "D -> ['B']\n",
            "E -> ['B', 'F']\n",
            "F -> ['C', 'E']\n"
          ]
        }
      ],
      "source": [
        "#Membuat graf tak berarah menggunakan adjacency list\n",
        "graph = {\n",
        "'A': ['B', 'C'],\n",
        "'B': ['A', 'D', 'E'],\n",
        "'C': ['A', 'F'],\n",
        "'D': ['B'],\n",
        "'E': ['B', 'F'],\n",
        "'F': ['C', 'E']\n",
        "}\n",
        "\n",
        "#Menampilkan graf\n",
        "def print_graph(graf):\n",
        "    for node in graf:\n",
        "        print (f\"{node} -> {graf [node]}\")\n",
        "\n",
        "print_graph(graph)"
      ]
    },
    {
      "cell_type": "markdown",
      "source": [
        "# **Traversal Graf menggunakan BFS**"
      ],
      "metadata": {
        "id": "6d7nRtewxrg8"
      }
    },
    {
      "cell_type": "code",
      "source": [
        "from collections import deque\n",
        "\n",
        "def bfs(graph, start):\n",
        "    visited = set()\n",
        "    queue = deque ([start])\n",
        "\n",
        "    while queue:\n",
        "        vertex = queue.popleft()\n",
        "        if vertex not in visited:\n",
        "            print (vertex, end=\" \")\n",
        "            visited.add(vertex)\n",
        "            queue.extend([neighbor for neighbor in graph[vertex] if neighbor\n",
        "not in visited])\n",
        "\n",
        "# Contoh pemanggilan\n",
        "bfs(graph, 'A')"
      ],
      "metadata": {
        "colab": {
          "base_uri": "https://localhost:8080/"
        },
        "id": "d9FwnWnKfcpm",
        "outputId": "e58d9fc7-759e-4787-d33d-6c5c87139a64"
      },
      "execution_count": null,
      "outputs": [
        {
          "output_type": "stream",
          "name": "stdout",
          "text": [
            "A B C D E F "
          ]
        }
      ]
    },
    {
      "cell_type": "markdown",
      "source": [
        "# **Traversal Graf menggunakan DFS**"
      ],
      "metadata": {
        "id": "IRENkRhDfsae"
      }
    },
    {
      "cell_type": "code",
      "source": [
        "def dfs(graph, start, visited=None):\n",
        "    if visited is None:\n",
        "        visited = set ()\n",
        "\n",
        "    if start not in visited:\n",
        "        print(start, end=\" \")\n",
        "        visited.add(start)\n",
        "        for neighbor in graph[start]:\n",
        "            dfs (graph, neighbor, visited)\n",
        "\n",
        "#Contoh pemanggilan\n",
        "dfs(graph, 'A')"
      ],
      "metadata": {
        "colab": {
          "base_uri": "https://localhost:8080/"
        },
        "id": "YTF2Em73xbYs",
        "outputId": "3680a3db-cee7-4e5a-fc84-44e0aa55e420"
      },
      "execution_count": null,
      "outputs": [
        {
          "output_type": "stream",
          "name": "stdout",
          "text": [
            "A B D E F C "
          ]
        }
      ]
    },
    {
      "cell_type": "markdown",
      "source": [
        "# **Latihan Personal**"
      ],
      "metadata": {
        "id": "c9q6Sl7eyNpU"
      }
    },
    {
      "cell_type": "code",
      "source": [
        "# Lengkapi fungsi untuk menghitung jumlah tetangga dari tiap simpul dalam graf\n",
        "def count_neighbors (graph):\n",
        "    result = {}\n",
        "    for node in graph:\n",
        "# TODO: Hitung jumlah tetangga\n",
        "      result[node]= len(graph[node])\n",
        "      pass\n",
        "    return result\n",
        "\n",
        "# Menampilkan jumlah tetangga\n",
        "for neighbor_count in count_neighbors(graph).items():\n",
        "  print(f\"Jumlah tetangga {neighbor_count[0]}: {neighbor_count[1]}\")"
      ],
      "metadata": {
        "id": "c9_x6rR3x_PU",
        "colab": {
          "base_uri": "https://localhost:8080/"
        },
        "outputId": "9595073d-e00d-4a5f-9806-13da2bb6abc5"
      },
      "execution_count": null,
      "outputs": [
        {
          "output_type": "stream",
          "name": "stdout",
          "text": [
            "Jumlah tetangga A: 2\n",
            "Jumlah tetangga B: 3\n",
            "Jumlah tetangga C: 2\n",
            "Jumlah tetangga D: 1\n",
            "Jumlah tetangga E: 2\n",
            "Jumlah tetangga F: 2\n"
          ]
        }
      ]
    }
  ]
}