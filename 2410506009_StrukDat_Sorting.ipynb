{
  "nbformat": 4,
  "nbformat_minor": 0,
  "metadata": {
    "colab": {
      "provenance": [],
      "authorship_tag": "ABX9TyP5/mZeQUinoI0FZtjehaqy",
      "include_colab_link": true
    },
    "kernelspec": {
      "name": "python3",
      "display_name": "Python 3"
    },
    "language_info": {
      "name": "python"
    }
  },
  "cells": [
    {
      "cell_type": "markdown",
      "metadata": {
        "id": "view-in-github",
        "colab_type": "text"
      },
      "source": [
        "<a href=\"https://colab.research.google.com/github/Rayfalmayvandra/Praktikum-Struktur-Data/blob/main/2410506009_StrukDat_Sorting.ipynb\" target=\"_parent\"><img src=\"https://colab.research.google.com/assets/colab-badge.svg\" alt=\"Open In Colab\"/></a>"
      ]
    },
    {
      "cell_type": "markdown",
      "source": [
        "# **Implementasi Bubble Sort**"
      ],
      "metadata": {
        "id": "dLulB3FhYPv5"
      }
    },
    {
      "cell_type": "code",
      "execution_count": null,
      "metadata": {
        "id": "DE2czutjQ_Lg",
        "colab": {
          "base_uri": "https://localhost:8080/"
        },
        "outputId": "e628eb27-946e-4dfa-8213-26315733a0af"
      },
      "outputs": [
        {
          "output_type": "stream",
          "name": "stdout",
          "text": [
            "Data sebelum sorting: [64, 34, 25, 12, 22, 11, 90]\n",
            "Data setelah Bubble Sort: [11, 12, 22, 25, 34, 64, 90]\n"
          ]
        }
      ],
      "source": [
        "def bubble_sort(arr):\n",
        "  n = len(arr)\n",
        "  for i in range(n - 1):\n",
        "      for j in range(n - 1):\n",
        "        if arr[j] > arr[j + 1]:\n",
        "            arr[j], arr[j + 1] = arr[j + 1], arr[j]\n",
        "  return arr\n",
        "\n",
        "#Contoh Penggunaan\n",
        "data = [64, 34, 25, 12, 22, 11, 90]\n",
        "sorted_data = bubble_sort(data.copy()) #Menggunakan copy agar data asli tidak berubah\n",
        "print(\"Data sebelum sorting:\", data)\n",
        "print(\"Data setelah Bubble Sort:\", sorted_data)"
      ]
    },
    {
      "cell_type": "markdown",
      "source": [
        "# **Impelementasi Selection Sort**"
      ],
      "metadata": {
        "id": "rpnowRXzZyYA"
      }
    },
    {
      "cell_type": "code",
      "source": [
        "def selection_sort(arr):\n",
        "  n = len(arr)\n",
        "  for i in range(n - 1):\n",
        "      min_index = i\n",
        "      for j in range(i + 1, n):\n",
        "          if arr[j] < arr[min_index]:\n",
        "              min_index = j\n",
        "      arr[i], arr[min_index] = arr[min_index], arr[i]\n",
        "  return arr\n",
        "\n",
        "#Contoh Penggunaan\n",
        "data = [64, 25, 12, 22, 11]\n",
        "sorted_data = selection_sort(data.copy())\n",
        "print(\"Data sebelum sorting:\", data)\n",
        "print(\"Data setelah Selection Sort:\", sorted_data)"
      ],
      "metadata": {
        "id": "J2nmODB4ZxHJ",
        "colab": {
          "base_uri": "https://localhost:8080/"
        },
        "outputId": "083e5921-7fe8-44f8-bd1e-23f8b208b9b0"
      },
      "execution_count": null,
      "outputs": [
        {
          "output_type": "stream",
          "name": "stdout",
          "text": [
            "Data sebelum sorting: [64, 25, 12, 22, 11]\n",
            "Data setelah Selection Sort: [11, 12, 22, 25, 64]\n"
          ]
        }
      ]
    },
    {
      "cell_type": "markdown",
      "source": [
        "# **Implementasi Insertion Sort**"
      ],
      "metadata": {
        "id": "ZWkNlovkbAsJ"
      }
    },
    {
      "cell_type": "code",
      "source": [
        "def insertion_sort(arr):\n",
        "    n = len(arr)\n",
        "    for i in range(1, n):\n",
        "        key = arr[i]\n",
        "        j = i - 1\n",
        "        while j >= 0 and arr[j] > key:\n",
        "            arr[j + 1] = arr[j]\n",
        "            j -= 1\n",
        "        arr[j + 1] = key\n",
        "    return arr\n",
        "\n",
        "# Contoh penggunaan\n",
        "data = [64, 34, 25, 12, 22, 11, 90]\n",
        "sorted_data = insertion_sort(data.copy())\n",
        "\n",
        "print(\"Data sebelum sorting:\", data)\n",
        "print(\"Data setelah Insertion Sort:\", sorted_data)"
      ],
      "metadata": {
        "colab": {
          "base_uri": "https://localhost:8080/"
        },
        "id": "jH03zkV7XcY-",
        "outputId": "fd9556b8-cebc-48e1-c88c-c04da88d2011"
      },
      "execution_count": null,
      "outputs": [
        {
          "output_type": "stream",
          "name": "stdout",
          "text": [
            "Data sebelum sorting: [64, 34, 25, 12, 22, 11, 90]\n",
            "Data setelah Insertion Sort: [11, 12, 22, 25, 34, 64, 90]\n"
          ]
        }
      ]
    },
    {
      "cell_type": "markdown",
      "source": [
        "# **Implementasi Merge Sort**"
      ],
      "metadata": {
        "id": "ua-SjOUgctbJ"
      }
    },
    {
      "cell_type": "code",
      "source": [
        "def merge_sort(arr):\n",
        "  if len(arr) > 1:\n",
        "      mid = len(arr) // 2\n",
        "      left_half = arr[:mid]\n",
        "      right_half = arr[mid:]\n",
        "\n",
        "      merge_sort(left_half)\n",
        "      merge_sort(right_half)\n",
        "\n",
        "      i = j = k = 0\n",
        "\n",
        "      while i < len(left_half) and j < len(right_half):\n",
        "        if left_half[i] < right_half[j]:\n",
        "            arr[k] = left_half[i]\n",
        "            i += 1\n",
        "        else:\n",
        "            arr[k] = right_half[j]\n",
        "            j += 1\n",
        "            k += 1\n",
        "\n",
        "      while i < len(left_half):\n",
        "          arr[k] = left_half[i]\n",
        "          i += 1\n",
        "          k += 1\n",
        "\n",
        "      while j < len(right_half):\n",
        "          arr[k] = right_half[j]\n",
        "          j += 1\n",
        "          k += 1\n",
        "\n",
        "  return arr\n",
        "\n",
        "#Contoh Penggunaan\n",
        "data = [64, 25, 12, 22, 11]\n",
        "sorted_data = merge_sort(data.copy())\n",
        "print(\"Data sebelum sorting:\", data)\n",
        "print(\"Data setelah Merge Sort:\", sorted_data)"
      ],
      "metadata": {
        "id": "tQEnHKlicldC",
        "colab": {
          "base_uri": "https://localhost:8080/"
        },
        "outputId": "6e383fe9-05d6-41ed-e3a3-3427995e6694"
      },
      "execution_count": null,
      "outputs": [
        {
          "output_type": "stream",
          "name": "stdout",
          "text": [
            "Data sebelum sorting: [64, 25, 12, 22, 11]\n",
            "Data setelah Merge Sort: [11, 22, 11, 25, 64]\n"
          ]
        }
      ]
    },
    {
      "cell_type": "markdown",
      "source": [
        "# **Implementasi Quick Sort**"
      ],
      "metadata": {
        "id": "IvyC5anCfzvD"
      }
    },
    {
      "cell_type": "code",
      "source": [
        "def quick_sort(arr):\n",
        "    if len(arr) <= 1:\n",
        "        return arr\n",
        "\n",
        "    pivot = arr[len(arr) // 2]\n",
        "    left = [x for x in arr if x < pivot]\n",
        "    middle = [x for x in arr if x == pivot]\n",
        "    right = [x for x in arr if x > pivot]\n",
        "\n",
        "    return quick_sort(left) + middle + quick_sort(right)\n",
        "\n",
        "#Contoh Penggunaan\n",
        "data = [64, 25, 12, 22, 11]\n",
        "sorted_data = quick_sort(data.copy())\n",
        "print(\"Data sebelum sorting:\", data)\n",
        "print(\"Data setelah Quick Sort:\", sorted_data)"
      ],
      "metadata": {
        "id": "u2BmAeAPfHTr",
        "colab": {
          "base_uri": "https://localhost:8080/"
        },
        "outputId": "106db547-eedb-413e-f4a9-4f8519d45be1"
      },
      "execution_count": null,
      "outputs": [
        {
          "output_type": "stream",
          "name": "stdout",
          "text": [
            "Data sebelum sorting: [64, 25, 12, 22, 11]\n",
            "Data setelah Quick Sort: [11, 12, 22, 25, 64]\n"
          ]
        }
      ]
    },
    {
      "cell_type": "markdown",
      "source": [
        "# **Latihan/Tugas**"
      ],
      "metadata": {
        "id": "0vih4LgSX8cj"
      }
    },
    {
      "cell_type": "code",
      "source": [
        "def quick_sort(arr, key):\n",
        "    if len(arr) <= 1:\n",
        "        return arr\n",
        "    else:\n",
        "      pivot = arr[len(arr) // 2][key]\n",
        "      left = [x for x in arr if x[key] < pivot]\n",
        "      middle = [x for x in arr if x[key] == pivot]\n",
        "      right = [x for x in arr if x[key] > pivot]\n",
        "\n",
        "      return quick_sort(left, key) + middle + quick_sort(right, key)\n",
        "\n",
        "data_pelanggan = [\n",
        "    {\"Nama\": \"Abdi\", \"Umur\": 18, \"Total_Belanja\": 50000},\n",
        "    {\"Nama\": \"Xela\", \"Umur\": 29, \"Total_Belanja\": 30000},\n",
        "    {\"Nama\": \"Galang\", \"Umur\": 18, \"Total_Belanja\": 150000},\n",
        "    {\"Nama\": \"Elia\", \"Umur\": 17, \"Total_Belanja\": 65000},\n",
        "    {\"Nama\": \"Figo\", \"Umur\": 20, \"Total_Belanja\": 500000},\n",
        "    {\"Nama\": \"Kalia\", \"Umur\": 17, \"Total_Belanja\": 90000},\n",
        "    {\"Nama\": \"Labubu\", \"Umur\": 14, \"Total_Belanja\": 10000},\n",
        "    {\"Nama\": \"Sasa\", \"Umur\": 19, \"Total_Belanja\": 70000},\n",
        "    {\"Nama\": \"Putra\", \"Umur\": 14, \"Total_Belanja\": 17000},\n",
        "    {\"Nama\": \"Ozan\", \"Umur\": 21, \"Total_Belanja\": 155000},\n",
        "    {\"Nama\": \"Wendy\", \"Umur\": 15, \"Total_Belanja\": 3000},\n",
        "    {\"Nama\": \"Qila\", \"Umur\": 20, \"Total_Belanja\": 220000},\n",
        "    {\"Nama\": \"Jaya\", \"Umur\": 15, \"Total_Belanja\": 23000},\n",
        "    {\"Nama\": \"Hanif\", \"Umur\": 10, \"Total_Belanja\": 8000},\n",
        "    {\"Nama\": \"Ilyas\", \"Umur\": 17, \"Total_Belanja\": 60000},\n",
        "    {\"Nama\": \"Rayfal\", \"Umur\": 18, \"Total_Belanja\": 40000},\n",
        "    {\"Nama\": \"Dede\", \"Umur\": 36, \"Total_Belanja\": 76000},\n",
        "    {\"Nama\": \"Yasa\", \"Umur\": 15, \"Total_Belanja\": 23000},\n",
        "    {\"Nama\": \"Tugu\", \"Umur\": 33, \"Total_Belanja\": 79000},\n",
        "    {\"Nama\": \"Bana\", \"Umur\": 17, \"Total_Belanja\": 45000},\n",
        "    {\"Nama\": \"Cici\", \"Umur\": 34, \"Total_Belanja\": 65000},\n",
        "    {\"Nama\": \"Zahra\", \"Umur\": 25, \"Total_Belanja\": 100000},\n",
        "    {\"Nama\": \"Maya\", \"Umur\": 17, \"Total_Belanja\": 5000},\n",
        "    {\"Nama\": \"Nana\", \"Umur\": 31, \"Total_Belanja\": 50000},\n",
        "    {\"Nama\": \"Velicia\", \"Umur\": 22, \"Total_Belanja\": 12000},\n",
        "    {\"Nama\": \"Uli\", \"Umur\": 16, \"Total_Belanja\": 79000}\n",
        "\n",
        "]\n",
        "\n",
        "print(\"\\n<-----Masukkan Angka Pilihan Data yang ingin ditampilkan----->\")\n",
        "print(\"1. Nama (A-Z)\")\n",
        "print(\"2. Umur Pelanggan\")\n",
        "print(\"3. Total Belanja Pelanggan\")\n",
        "pilihan = input(\"Masukkan pilihan :\")\n",
        "\n",
        "if pilihan == \"1\":\n",
        "  key = \"Nama\"\n",
        "elif pilihan == \"2\":\n",
        "  key = \"Umur\"\n",
        "elif pilihan == \"3\":\n",
        "  key = \"Total_Belanja\"\n",
        "else:\n",
        "  print(\"Pilihan tidak valid:\")\n",
        "  exit()\n",
        "\n",
        "\n",
        "sorted_data = quick_sort(data_pelanggan, key)\n",
        "print(\"\\n<-----Data Pelanggan E-Commerce Takapedia----->\")\n",
        "print(\"\\nData Pelanggan Sebelum diurutkan:\", data_pelanggan)\n",
        "print(f\"Data Pelanggan Setelah diurutkan berdasarkan: {key}\")\n",
        "for data_pelanggan in sorted_data:\n",
        "    print(data_pelanggan)"
      ],
      "metadata": {
        "colab": {
          "base_uri": "https://localhost:8080/"
        },
        "id": "ZU1tTHrPX29X",
        "outputId": "d7d155fb-ede9-4513-a161-928d9d7c1be5"
      },
      "execution_count": null,
      "outputs": [
        {
          "output_type": "stream",
          "name": "stdout",
          "text": [
            "<-----Masukkan Angka Pilihan Data yang ingin ditampilkan----->\n",
            "1. Nama (A-Z)\n",
            "2. Umur Pelanggan\n",
            "3. Total Belanja Pelanggan\n",
            "Masukkan pilihan :1\n",
            "\n",
            "<-----Data Pelanggan E-Commerce Takapedia----->\n",
            "\n",
            "Data Pelanggan Sebelum diurutkan: [{'Nama': 'Abdi', 'Umur': 18, 'Total_Belanja': 50000}, {'Nama': 'Xela', 'Umur': 29, 'Total_Belanja': 30000}, {'Nama': 'Galang', 'Umur': 18, 'Total_Belanja': 150000}, {'Nama': 'Elia', 'Umur': 17, 'Total_Belanja': 65000}, {'Nama': 'Figo', 'Umur': 20, 'Total_Belanja': 500000}, {'Nama': 'Kalia', 'Umur': 17, 'Total_Belanja': 90000}, {'Nama': 'Labubu', 'Umur': 14, 'Total_Belanja': 10000}, {'Nama': 'Sasa', 'Umur': 19, 'Total_Belanja': 70000}, {'Nama': 'Putra', 'Umur': 14, 'Total_Belanja': 17000}, {'Nama': 'Ozan', 'Umur': 21, 'Total_Belanja': 155000}, {'Nama': 'Wendy', 'Umur': 15, 'Total_Belanja': 3000}, {'Nama': 'Qila', 'Umur': 20, 'Total_Belanja': 220000}, {'Nama': 'Jaya', 'Umur': 15, 'Total_Belanja': 23000}, {'Nama': 'Hanif', 'Umur': 10, 'Total_Belanja': 8000}, {'Nama': 'Ilyas', 'Umur': 17, 'Total_Belanja': 60000}, {'Nama': 'Rayfal', 'Umur': 18, 'Total_Belanja': 40000}, {'Nama': 'Dede', 'Umur': 36, 'Total_Belanja': 76000}, {'Nama': 'Yasa', 'Umur': 15, 'Total_Belanja': 23000}, {'Nama': 'Tugu', 'Umur': 33, 'Total_Belanja': 79000}, {'Nama': 'Bana', 'Umur': 17, 'Total_Belanja': 45000}, {'Nama': 'Cici', 'Umur': 34, 'Total_Belanja': 65000}, {'Nama': 'Zahra', 'Umur': 25, 'Total_Belanja': 100000}, {'Nama': 'Maya', 'Umur': 17, 'Total_Belanja': 5000}, {'Nama': 'Nana', 'Umur': 31, 'Total_Belanja': 50000}, {'Nama': 'Velicia', 'Umur': 22, 'Total_Belanja': 12000}, {'Nama': 'Uli', 'Umur': 16, 'Total_Belanja': 79000}]\n",
            "Data Pelanggan Setelah diurutkan berdasarkan: Nama\n",
            "{'Nama': 'Abdi', 'Umur': 18, 'Total_Belanja': 50000}\n",
            "{'Nama': 'Bana', 'Umur': 17, 'Total_Belanja': 45000}\n",
            "{'Nama': 'Cici', 'Umur': 34, 'Total_Belanja': 65000}\n",
            "{'Nama': 'Dede', 'Umur': 36, 'Total_Belanja': 76000}\n",
            "{'Nama': 'Elia', 'Umur': 17, 'Total_Belanja': 65000}\n",
            "{'Nama': 'Figo', 'Umur': 20, 'Total_Belanja': 500000}\n",
            "{'Nama': 'Galang', 'Umur': 18, 'Total_Belanja': 150000}\n",
            "{'Nama': 'Hanif', 'Umur': 10, 'Total_Belanja': 8000}\n",
            "{'Nama': 'Ilyas', 'Umur': 17, 'Total_Belanja': 60000}\n",
            "{'Nama': 'Jaya', 'Umur': 15, 'Total_Belanja': 23000}\n",
            "{'Nama': 'Kalia', 'Umur': 17, 'Total_Belanja': 90000}\n",
            "{'Nama': 'Labubu', 'Umur': 14, 'Total_Belanja': 10000}\n",
            "{'Nama': 'Maya', 'Umur': 17, 'Total_Belanja': 5000}\n",
            "{'Nama': 'Nana', 'Umur': 31, 'Total_Belanja': 50000}\n",
            "{'Nama': 'Ozan', 'Umur': 21, 'Total_Belanja': 155000}\n",
            "{'Nama': 'Putra', 'Umur': 14, 'Total_Belanja': 17000}\n",
            "{'Nama': 'Qila', 'Umur': 20, 'Total_Belanja': 220000}\n",
            "{'Nama': 'Rayfal', 'Umur': 18, 'Total_Belanja': 40000}\n",
            "{'Nama': 'Sasa', 'Umur': 19, 'Total_Belanja': 70000}\n",
            "{'Nama': 'Tugu', 'Umur': 33, 'Total_Belanja': 79000}\n",
            "{'Nama': 'Uli', 'Umur': 16, 'Total_Belanja': 79000}\n",
            "{'Nama': 'Velicia', 'Umur': 22, 'Total_Belanja': 12000}\n",
            "{'Nama': 'Wendy', 'Umur': 15, 'Total_Belanja': 3000}\n",
            "{'Nama': 'Xela', 'Umur': 29, 'Total_Belanja': 30000}\n",
            "{'Nama': 'Yasa', 'Umur': 15, 'Total_Belanja': 23000}\n",
            "{'Nama': 'Zahra', 'Umur': 25, 'Total_Belanja': 100000}\n"
          ]
        }
      ]
    },
    {
      "cell_type": "code",
      "source": [
        "def quick_sort(arr, key):\n",
        "    if len(arr) <= 1:\n",
        "        return arr\n",
        "    else:\n",
        "      pivot = arr[len(arr) // 2][key]\n",
        "      left = [x for x in arr if x[key] < pivot]\n",
        "      middle = [x for x in arr if x[key] == pivot]\n",
        "      right = [x for x in arr if x[key] > pivot]\n",
        "\n",
        "      return quick_sort(left, key) + middle + quick_sort(right, key)\n",
        "\n",
        "data_pelanggan = [\n",
        "    {\"Nama\": \"Abdi\", \"Umur\": 18, \"Total_Belanja\": 50000},\n",
        "    {\"Nama\": \"Xela\", \"Umur\": 29, \"Total_Belanja\": 30000},\n",
        "    {\"Nama\": \"Galang\", \"Umur\": 18, \"Total_Belanja\": 150000},\n",
        "    {\"Nama\": \"Elia\", \"Umur\": 17, \"Total_Belanja\": 65000},\n",
        "    {\"Nama\": \"Figo\", \"Umur\": 20, \"Total_Belanja\": 500000},\n",
        "    {\"Nama\": \"Kalia\", \"Umur\": 17, \"Total_Belanja\": 90000},\n",
        "    {\"Nama\": \"Labubu\", \"Umur\": 14, \"Total_Belanja\": 10000},\n",
        "    {\"Nama\": \"Sasa\", \"Umur\": 19, \"Total_Belanja\": 70000},\n",
        "    {\"Nama\": \"Putra\", \"Umur\": 14, \"Total_Belanja\": 17000},\n",
        "    {\"Nama\": \"Ozan\", \"Umur\": 21, \"Total_Belanja\": 155000},\n",
        "    {\"Nama\": \"Wendy\", \"Umur\": 15, \"Total_Belanja\": 3000},\n",
        "    {\"Nama\": \"Qila\", \"Umur\": 20, \"Total_Belanja\": 220000},\n",
        "    {\"Nama\": \"Jaya\", \"Umur\": 15, \"Total_Belanja\": 23000},\n",
        "    {\"Nama\": \"Hanif\", \"Umur\": 10, \"Total_Belanja\": 8000},\n",
        "    {\"Nama\": \"Ilyas\", \"Umur\": 17, \"Total_Belanja\": 60000},\n",
        "    {\"Nama\": \"Rayfal\", \"Umur\": 18, \"Total_Belanja\": 40000},\n",
        "    {\"Nama\": \"Dede\", \"Umur\": 36, \"Total_Belanja\": 76000},\n",
        "    {\"Nama\": \"Yasa\", \"Umur\": 15, \"Total_Belanja\": 23000},\n",
        "    {\"Nama\": \"Tugu\", \"Umur\": 33, \"Total_Belanja\": 79000},\n",
        "    {\"Nama\": \"Bana\", \"Umur\": 17, \"Total_Belanja\": 45000},\n",
        "    {\"Nama\": \"Cici\", \"Umur\": 34, \"Total_Belanja\": 65000},\n",
        "    {\"Nama\": \"Zahra\", \"Umur\": 25, \"Total_Belanja\": 100000},\n",
        "    {\"Nama\": \"Maya\", \"Umur\": 17, \"Total_Belanja\": 5000},\n",
        "    {\"Nama\": \"Nana\", \"Umur\": 31, \"Total_Belanja\": 50000},\n",
        "    {\"Nama\": \"Velicia\", \"Umur\": 22, \"Total_Belanja\": 12000},\n",
        "    {\"Nama\": \"Uli\", \"Umur\": 16, \"Total_Belanja\": 79000}\n",
        "\n",
        "]\n",
        "\n",
        "print(\"\\n<-----Masukkan Angka Pilihan Data yang ingin ditampilkan----->\")\n",
        "print(\"1. Nama (A-Z)\")\n",
        "print(\"2. Umur Pelanggan\")\n",
        "print(\"3. Total Belanja Pelanggan\")\n",
        "pilihan = input(\"Masukkan pilihan :\")\n",
        "\n",
        "if pilihan == \"1\":\n",
        "  key = \"Nama\"\n",
        "elif pilihan == \"2\":\n",
        "  key = \"Umur\"\n",
        "elif pilihan == \"3\":\n",
        "  key = \"Total_Belanja\"\n",
        "else:\n",
        "  print(\"Pilihan tidak valid:\")\n",
        "  exit()\n",
        "\n",
        "\n",
        "sorted_data = quick_sort(data_pelanggan, key)\n",
        "print(\"\\n<-----Data Pelanggan E-Commerce Takapedia----->\")\n",
        "print(\"\\nData Pelanggan Sebelum diurutkan:\", data_pelanggan)\n",
        "print(f\"Data Pelanggan Setelah diurutkan berdasarkan: {key}\")\n",
        "for data_pelanggan in sorted_data:\n",
        "    print(data_pelanggan)"
      ],
      "metadata": {
        "id": "1vGMOxasdlGC",
        "colab": {
          "base_uri": "https://localhost:8080/"
        },
        "outputId": "b6e21081-8596-4c4a-910f-00c71abdf248"
      },
      "execution_count": 1,
      "outputs": [
        {
          "output_type": "stream",
          "name": "stdout",
          "text": [
            "\n",
            "<-----Masukkan Angka Pilihan Data yang ingin ditampilkan----->\n",
            "1. Nama (A-Z)\n",
            "2. Umur Pelanggan\n",
            "3. Total Belanja Pelanggan\n",
            "Masukkan pilihan :2\n",
            "\n",
            "<-----Data Pelanggan E-Commerce Takapedia----->\n",
            "\n",
            "Data Pelanggan Sebelum diurutkan: [{'Nama': 'Abdi', 'Umur': 18, 'Total_Belanja': 50000}, {'Nama': 'Xela', 'Umur': 29, 'Total_Belanja': 30000}, {'Nama': 'Galang', 'Umur': 18, 'Total_Belanja': 150000}, {'Nama': 'Elia', 'Umur': 17, 'Total_Belanja': 65000}, {'Nama': 'Figo', 'Umur': 20, 'Total_Belanja': 500000}, {'Nama': 'Kalia', 'Umur': 17, 'Total_Belanja': 90000}, {'Nama': 'Labubu', 'Umur': 14, 'Total_Belanja': 10000}, {'Nama': 'Sasa', 'Umur': 19, 'Total_Belanja': 70000}, {'Nama': 'Putra', 'Umur': 14, 'Total_Belanja': 17000}, {'Nama': 'Ozan', 'Umur': 21, 'Total_Belanja': 155000}, {'Nama': 'Wendy', 'Umur': 15, 'Total_Belanja': 3000}, {'Nama': 'Qila', 'Umur': 20, 'Total_Belanja': 220000}, {'Nama': 'Jaya', 'Umur': 15, 'Total_Belanja': 23000}, {'Nama': 'Hanif', 'Umur': 10, 'Total_Belanja': 8000}, {'Nama': 'Ilyas', 'Umur': 17, 'Total_Belanja': 60000}, {'Nama': 'Rayfal', 'Umur': 18, 'Total_Belanja': 40000}, {'Nama': 'Dede', 'Umur': 36, 'Total_Belanja': 76000}, {'Nama': 'Yasa', 'Umur': 15, 'Total_Belanja': 23000}, {'Nama': 'Tugu', 'Umur': 33, 'Total_Belanja': 79000}, {'Nama': 'Bana', 'Umur': 17, 'Total_Belanja': 45000}, {'Nama': 'Cici', 'Umur': 34, 'Total_Belanja': 65000}, {'Nama': 'Zahra', 'Umur': 25, 'Total_Belanja': 100000}, {'Nama': 'Maya', 'Umur': 17, 'Total_Belanja': 5000}, {'Nama': 'Nana', 'Umur': 31, 'Total_Belanja': 50000}, {'Nama': 'Velicia', 'Umur': 22, 'Total_Belanja': 12000}, {'Nama': 'Uli', 'Umur': 16, 'Total_Belanja': 79000}]\n",
            "Data Pelanggan Setelah diurutkan berdasarkan: Umur\n",
            "{'Nama': 'Hanif', 'Umur': 10, 'Total_Belanja': 8000}\n",
            "{'Nama': 'Labubu', 'Umur': 14, 'Total_Belanja': 10000}\n",
            "{'Nama': 'Putra', 'Umur': 14, 'Total_Belanja': 17000}\n",
            "{'Nama': 'Wendy', 'Umur': 15, 'Total_Belanja': 3000}\n",
            "{'Nama': 'Jaya', 'Umur': 15, 'Total_Belanja': 23000}\n",
            "{'Nama': 'Yasa', 'Umur': 15, 'Total_Belanja': 23000}\n",
            "{'Nama': 'Uli', 'Umur': 16, 'Total_Belanja': 79000}\n",
            "{'Nama': 'Elia', 'Umur': 17, 'Total_Belanja': 65000}\n",
            "{'Nama': 'Kalia', 'Umur': 17, 'Total_Belanja': 90000}\n",
            "{'Nama': 'Ilyas', 'Umur': 17, 'Total_Belanja': 60000}\n",
            "{'Nama': 'Bana', 'Umur': 17, 'Total_Belanja': 45000}\n",
            "{'Nama': 'Maya', 'Umur': 17, 'Total_Belanja': 5000}\n",
            "{'Nama': 'Abdi', 'Umur': 18, 'Total_Belanja': 50000}\n",
            "{'Nama': 'Galang', 'Umur': 18, 'Total_Belanja': 150000}\n",
            "{'Nama': 'Rayfal', 'Umur': 18, 'Total_Belanja': 40000}\n",
            "{'Nama': 'Sasa', 'Umur': 19, 'Total_Belanja': 70000}\n",
            "{'Nama': 'Figo', 'Umur': 20, 'Total_Belanja': 500000}\n",
            "{'Nama': 'Qila', 'Umur': 20, 'Total_Belanja': 220000}\n",
            "{'Nama': 'Ozan', 'Umur': 21, 'Total_Belanja': 155000}\n",
            "{'Nama': 'Velicia', 'Umur': 22, 'Total_Belanja': 12000}\n",
            "{'Nama': 'Zahra', 'Umur': 25, 'Total_Belanja': 100000}\n",
            "{'Nama': 'Xela', 'Umur': 29, 'Total_Belanja': 30000}\n",
            "{'Nama': 'Nana', 'Umur': 31, 'Total_Belanja': 50000}\n",
            "{'Nama': 'Tugu', 'Umur': 33, 'Total_Belanja': 79000}\n",
            "{'Nama': 'Cici', 'Umur': 34, 'Total_Belanja': 65000}\n",
            "{'Nama': 'Dede', 'Umur': 36, 'Total_Belanja': 76000}\n"
          ]
        }
      ]
    },
    {
      "cell_type": "code",
      "source": [
        "def quick_sort(arr, key):\n",
        "    if len(arr) <= 1:\n",
        "        return arr\n",
        "    else:\n",
        "      pivot = arr[len(arr) // 2][key]\n",
        "      left = [x for x in arr if x[key] < pivot]\n",
        "      middle = [x for x in arr if x[key] == pivot]\n",
        "      right = [x for x in arr if x[key] > pivot]\n",
        "\n",
        "      return quick_sort(left, key) + middle + quick_sort(right, key)\n",
        "\n",
        "data_pelanggan = [\n",
        "    {\"Nama\": \"Abdi\", \"Umur\": 18, \"Total_Belanja\": 50000},\n",
        "    {\"Nama\": \"Xela\", \"Umur\": 29, \"Total_Belanja\": 30000},\n",
        "    {\"Nama\": \"Galang\", \"Umur\": 18, \"Total_Belanja\": 150000},\n",
        "    {\"Nama\": \"Elia\", \"Umur\": 17, \"Total_Belanja\": 65000},\n",
        "    {\"Nama\": \"Figo\", \"Umur\": 20, \"Total_Belanja\": 500000},\n",
        "    {\"Nama\": \"Kalia\", \"Umur\": 17, \"Total_Belanja\": 90000},\n",
        "    {\"Nama\": \"Labubu\", \"Umur\": 14, \"Total_Belanja\": 10000},\n",
        "    {\"Nama\": \"Sasa\", \"Umur\": 19, \"Total_Belanja\": 70000},\n",
        "    {\"Nama\": \"Putra\", \"Umur\": 14, \"Total_Belanja\": 17000},\n",
        "    {\"Nama\": \"Ozan\", \"Umur\": 21, \"Total_Belanja\": 155000},\n",
        "    {\"Nama\": \"Wendy\", \"Umur\": 15, \"Total_Belanja\": 3000},\n",
        "    {\"Nama\": \"Qila\", \"Umur\": 20, \"Total_Belanja\": 220000},\n",
        "    {\"Nama\": \"Jaya\", \"Umur\": 15, \"Total_Belanja\": 23000},\n",
        "    {\"Nama\": \"Hanif\", \"Umur\": 10, \"Total_Belanja\": 8000},\n",
        "    {\"Nama\": \"Ilyas\", \"Umur\": 17, \"Total_Belanja\": 60000},\n",
        "    {\"Nama\": \"Rayfal\", \"Umur\": 18, \"Total_Belanja\": 40000},\n",
        "    {\"Nama\": \"Dede\", \"Umur\": 36, \"Total_Belanja\": 76000},\n",
        "    {\"Nama\": \"Yasa\", \"Umur\": 15, \"Total_Belanja\": 23000},\n",
        "    {\"Nama\": \"Tugu\", \"Umur\": 33, \"Total_Belanja\": 79000},\n",
        "    {\"Nama\": \"Bana\", \"Umur\": 17, \"Total_Belanja\": 45000},\n",
        "    {\"Nama\": \"Cici\", \"Umur\": 34, \"Total_Belanja\": 65000},\n",
        "    {\"Nama\": \"Zahra\", \"Umur\": 25, \"Total_Belanja\": 100000},\n",
        "    {\"Nama\": \"Maya\", \"Umur\": 17, \"Total_Belanja\": 5000},\n",
        "    {\"Nama\": \"Nana\", \"Umur\": 31, \"Total_Belanja\": 50000},\n",
        "    {\"Nama\": \"Velicia\", \"Umur\": 22, \"Total_Belanja\": 12000},\n",
        "    {\"Nama\": \"Uli\", \"Umur\": 16, \"Total_Belanja\": 79000}\n",
        "\n",
        "]\n",
        "\n",
        "print(\"\\n<-----Masukkan Angka Pilihan Data yang ingin ditampilkan----->\")\n",
        "print(\"1. Nama (A-Z)\")\n",
        "print(\"2. Umur Pelanggan\")\n",
        "print(\"3. Total Belanja Pelanggan\")\n",
        "pilihan = input(\"Masukkan pilihan :\")\n",
        "\n",
        "if pilihan == \"1\":\n",
        "  key = \"Nama\"\n",
        "elif pilihan == \"2\":\n",
        "  key = \"Umur\"\n",
        "elif pilihan == \"3\":\n",
        "  key = \"Total_Belanja\"\n",
        "else:\n",
        "  print(\"Pilihan tidak valid:\")\n",
        "  exit()\n",
        "\n",
        "\n",
        "sorted_data = quick_sort(data_pelanggan, key)\n",
        "print(\"\\n<-----Data Pelanggan E-Commerce Takapedia----->\")\n",
        "print(\"\\nData Pelanggan Sebelum diurutkan:\", data_pelanggan)\n",
        "print(f\"Data Pelanggan Setelah diurutkan berdasarkan: {key}\")\n",
        "for data_pelanggan in sorted_data:\n",
        "    print(data_pelanggan)"
      ],
      "metadata": {
        "colab": {
          "base_uri": "https://localhost:8080/"
        },
        "id": "CAeHB5UHfsUV",
        "outputId": "8a26a663-46bc-4a0e-9306-bfbaf4b7e569"
      },
      "execution_count": 2,
      "outputs": [
        {
          "output_type": "stream",
          "name": "stdout",
          "text": [
            "\n",
            "<-----Masukkan Angka Pilihan Data yang ingin ditampilkan----->\n",
            "1. Nama (A-Z)\n",
            "2. Umur Pelanggan\n",
            "3. Total Belanja Pelanggan\n",
            "Masukkan pilihan :3\n",
            "\n",
            "<-----Data Pelanggan E-Commerce Takapedia----->\n",
            "\n",
            "Data Pelanggan Sebelum diurutkan: [{'Nama': 'Abdi', 'Umur': 18, 'Total_Belanja': 50000}, {'Nama': 'Xela', 'Umur': 29, 'Total_Belanja': 30000}, {'Nama': 'Galang', 'Umur': 18, 'Total_Belanja': 150000}, {'Nama': 'Elia', 'Umur': 17, 'Total_Belanja': 65000}, {'Nama': 'Figo', 'Umur': 20, 'Total_Belanja': 500000}, {'Nama': 'Kalia', 'Umur': 17, 'Total_Belanja': 90000}, {'Nama': 'Labubu', 'Umur': 14, 'Total_Belanja': 10000}, {'Nama': 'Sasa', 'Umur': 19, 'Total_Belanja': 70000}, {'Nama': 'Putra', 'Umur': 14, 'Total_Belanja': 17000}, {'Nama': 'Ozan', 'Umur': 21, 'Total_Belanja': 155000}, {'Nama': 'Wendy', 'Umur': 15, 'Total_Belanja': 3000}, {'Nama': 'Qila', 'Umur': 20, 'Total_Belanja': 220000}, {'Nama': 'Jaya', 'Umur': 15, 'Total_Belanja': 23000}, {'Nama': 'Hanif', 'Umur': 10, 'Total_Belanja': 8000}, {'Nama': 'Ilyas', 'Umur': 17, 'Total_Belanja': 60000}, {'Nama': 'Rayfal', 'Umur': 18, 'Total_Belanja': 40000}, {'Nama': 'Dede', 'Umur': 36, 'Total_Belanja': 76000}, {'Nama': 'Yasa', 'Umur': 15, 'Total_Belanja': 23000}, {'Nama': 'Tugu', 'Umur': 33, 'Total_Belanja': 79000}, {'Nama': 'Bana', 'Umur': 17, 'Total_Belanja': 45000}, {'Nama': 'Cici', 'Umur': 34, 'Total_Belanja': 65000}, {'Nama': 'Zahra', 'Umur': 25, 'Total_Belanja': 100000}, {'Nama': 'Maya', 'Umur': 17, 'Total_Belanja': 5000}, {'Nama': 'Nana', 'Umur': 31, 'Total_Belanja': 50000}, {'Nama': 'Velicia', 'Umur': 22, 'Total_Belanja': 12000}, {'Nama': 'Uli', 'Umur': 16, 'Total_Belanja': 79000}]\n",
            "Data Pelanggan Setelah diurutkan berdasarkan: Total_Belanja\n",
            "{'Nama': 'Wendy', 'Umur': 15, 'Total_Belanja': 3000}\n",
            "{'Nama': 'Maya', 'Umur': 17, 'Total_Belanja': 5000}\n",
            "{'Nama': 'Hanif', 'Umur': 10, 'Total_Belanja': 8000}\n",
            "{'Nama': 'Labubu', 'Umur': 14, 'Total_Belanja': 10000}\n",
            "{'Nama': 'Velicia', 'Umur': 22, 'Total_Belanja': 12000}\n",
            "{'Nama': 'Putra', 'Umur': 14, 'Total_Belanja': 17000}\n",
            "{'Nama': 'Jaya', 'Umur': 15, 'Total_Belanja': 23000}\n",
            "{'Nama': 'Yasa', 'Umur': 15, 'Total_Belanja': 23000}\n",
            "{'Nama': 'Xela', 'Umur': 29, 'Total_Belanja': 30000}\n",
            "{'Nama': 'Rayfal', 'Umur': 18, 'Total_Belanja': 40000}\n",
            "{'Nama': 'Bana', 'Umur': 17, 'Total_Belanja': 45000}\n",
            "{'Nama': 'Abdi', 'Umur': 18, 'Total_Belanja': 50000}\n",
            "{'Nama': 'Nana', 'Umur': 31, 'Total_Belanja': 50000}\n",
            "{'Nama': 'Ilyas', 'Umur': 17, 'Total_Belanja': 60000}\n",
            "{'Nama': 'Elia', 'Umur': 17, 'Total_Belanja': 65000}\n",
            "{'Nama': 'Cici', 'Umur': 34, 'Total_Belanja': 65000}\n",
            "{'Nama': 'Sasa', 'Umur': 19, 'Total_Belanja': 70000}\n",
            "{'Nama': 'Dede', 'Umur': 36, 'Total_Belanja': 76000}\n",
            "{'Nama': 'Tugu', 'Umur': 33, 'Total_Belanja': 79000}\n",
            "{'Nama': 'Uli', 'Umur': 16, 'Total_Belanja': 79000}\n",
            "{'Nama': 'Kalia', 'Umur': 17, 'Total_Belanja': 90000}\n",
            "{'Nama': 'Zahra', 'Umur': 25, 'Total_Belanja': 100000}\n",
            "{'Nama': 'Galang', 'Umur': 18, 'Total_Belanja': 150000}\n",
            "{'Nama': 'Ozan', 'Umur': 21, 'Total_Belanja': 155000}\n",
            "{'Nama': 'Qila', 'Umur': 20, 'Total_Belanja': 220000}\n",
            "{'Nama': 'Figo', 'Umur': 20, 'Total_Belanja': 500000}\n"
          ]
        }
      ]
    }
  ]
}