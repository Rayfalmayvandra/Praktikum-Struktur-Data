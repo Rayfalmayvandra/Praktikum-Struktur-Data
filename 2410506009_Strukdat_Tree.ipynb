{
  "nbformat": 4,
  "nbformat_minor": 0,
  "metadata": {
    "colab": {
      "provenance": [],
      "authorship_tag": "ABX9TyOo5LtnEEqC63fGEnhZa8sY",
      "include_colab_link": true
    },
    "kernelspec": {
      "name": "python3",
      "display_name": "Python 3"
    },
    "language_info": {
      "name": "python"
    }
  },
  "cells": [
    {
      "cell_type": "markdown",
      "metadata": {
        "id": "view-in-github",
        "colab_type": "text"
      },
      "source": [
        "<a href=\"https://colab.research.google.com/github/Rayfalmayvandra/Praktikum-Struktur-Data/blob/main/2410506009_Strukdat_Tree.ipynb\" target=\"_parent\"><img src=\"https://colab.research.google.com/assets/colab-badge.svg\" alt=\"Open In Colab\"/></a>"
      ]
    },
    {
      "cell_type": "markdown",
      "source": [
        "# **Binary Tree Secara Manual**"
      ],
      "metadata": {
        "id": "973wAySy0hyR"
      }
    },
    {
      "cell_type": "code",
      "execution_count": null,
      "metadata": {
        "colab": {
          "base_uri": "https://localhost:8080/"
        },
        "id": "o-99w8DrlIF9",
        "outputId": "7b8dc6b1-1252-4a16-ba4e-3af24da121fa"
      },
      "outputs": [
        {
          "output_type": "stream",
          "name": "stdout",
          "text": [
            "Hasil inorder traversal dari binary tree:\n",
            "4 2 5 1 3 "
          ]
        }
      ],
      "source": [
        "class Node:\n",
        "  def __init__(self, data):\n",
        "    self.data = data\n",
        "    self.left = None\n",
        "    self.right = None\n",
        "\n",
        "#Membuat tree secara manual\n",
        "root = Node(1)\n",
        "root.left = Node(2)\n",
        "root.right = Node(3)\n",
        "root.left.left = Node(4)\n",
        "root.left.right = Node(5)\n",
        "\n",
        "#Fungsi inorder traversal\n",
        "def inorder(node):\n",
        "    if node:\n",
        "      inorder(node.left)\n",
        "      print(node.data, end=' ')\n",
        "      inorder(node.right)\n",
        "\n",
        "print(\"Hasil inorder traversal dari binary tree:\")\n",
        "inorder(root)"
      ]
    },
    {
      "cell_type": "markdown",
      "source": [
        "# **Binary Search Tree**"
      ],
      "metadata": {
        "id": "XfHXB6-y0xzR"
      }
    },
    {
      "cell_type": "code",
      "source": [
        "class Node:\n",
        "  def __init__(self, data):\n",
        "    self.data = data\n",
        "    self.left = None\n",
        "    self.right = None\n",
        "\n",
        "class BinarySearchTree:\n",
        "  def __init__(self):\n",
        "    self.root = None\n",
        "\n",
        "  def insert(self, root, data):\n",
        "      if root is None:\n",
        "        return Node(data)\n",
        "      if data < root.data:\n",
        "          root.left = self.insert(root.left, data)\n",
        "      else:\n",
        "          root.right = self.insert(root.right, data)\n",
        "      return root\n",
        "\n",
        "bst = BinarySearchTree()\n",
        "root = None\n",
        "data_list = [50, 30, 70, 20, 40, 60, 80]\n",
        "for value in data_list:\n",
        "  root = bst.insert(root, value)"
      ],
      "metadata": {
        "id": "va3wOlf1viGY"
      },
      "execution_count": null,
      "outputs": []
    },
    {
      "cell_type": "markdown",
      "source": [
        "# **Traversal pada BST**"
      ],
      "metadata": {
        "id": "SxcULCC703mg"
      }
    },
    {
      "cell_type": "code",
      "source": [
        "def inorder(node):\n",
        "  if node:\n",
        "      inorder(node.left)\n",
        "      print(node.data, end=' ')\n",
        "      inorder(node.right)\n",
        "\n",
        "def preorder(node):\n",
        "  if node:\n",
        "    print(node.data, end=' ')\n",
        "    preorder(node.left)\n",
        "    preorder(node.right)\n",
        "\n",
        "def postorder(node):\n",
        "  if node:\n",
        "    postorder(node.left)\n",
        "    postorder(node.right)\n",
        "    print(node.data, end=' ')\n",
        "\n",
        "print(\"Inorder Traversal:\")\n",
        "inorder(root)\n",
        "print(\"\\nPreorder Traversal:\")\n",
        "preorder(root)\n",
        "print(\"\\nPostorder Tranversal:\")\n",
        "postorder(root)"
      ],
      "metadata": {
        "colab": {
          "base_uri": "https://localhost:8080/"
        },
        "id": "8NW6WciJw6MR",
        "outputId": "fd2b1d06-d4e6-4828-dd90-2768b705c1b2"
      },
      "execution_count": null,
      "outputs": [
        {
          "output_type": "stream",
          "name": "stdout",
          "text": [
            "Inorder Traversal:\n",
            "20 30 40 50 60 70 80 \n",
            "Preorder Traversal:\n",
            "50 30 20 40 70 60 80 \n",
            "Postorder Tranversal:\n",
            "20 40 30 60 80 70 50 "
          ]
        }
      ]
    },
    {
      "cell_type": "markdown",
      "source": [
        "# **Pencarian Nilai dalam BST**"
      ],
      "metadata": {
        "id": "m95oGdXj09CR"
      }
    },
    {
      "cell_type": "code",
      "source": [
        "def search(node, key):\n",
        "  if node is None or node.data == key:\n",
        "      return node\n",
        "  if key < node.data:\n",
        "      return search(node.left, key)\n",
        "  return search(node.right, key)\n",
        "\n",
        "#Uji pencarian\n",
        "key = 60\n",
        "result = search(root, key)\n",
        "if result:\n",
        "  print(f\"{key} ditemukan dalam tree.\")\n",
        "else:\n",
        "  print(f\"{key} tidak ditemukan.\")\n",
        "\n",
        "key = 25\n",
        "result = search(root, key)\n",
        "if result:\n",
        "  print(f\"{key} ditemukan dalam tree.\")\n",
        "else:\n",
        "  print(f\"{key} tidak ditemukan.\")"
      ],
      "metadata": {
        "colab": {
          "base_uri": "https://localhost:8080/"
        },
        "id": "6obnlFA7zTbZ",
        "outputId": "78e76d07-06fa-4db3-f3ff-b7717a1d02fd"
      },
      "execution_count": null,
      "outputs": [
        {
          "output_type": "stream",
          "name": "stdout",
          "text": [
            "60 ditemukan dalam tree.\n",
            "25 tidak ditemukan.\n"
          ]
        }
      ]
    }
  ]
}