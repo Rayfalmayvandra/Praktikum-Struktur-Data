{
  "nbformat": 4,
  "nbformat_minor": 0,
  "metadata": {
    "colab": {
      "provenance": [],
      "authorship_tag": "ABX9TyMB4oKdBBxqs0r60I0cHrWW",
      "include_colab_link": true
    },
    "kernelspec": {
      "name": "python3",
      "display_name": "Python 3"
    },
    "language_info": {
      "name": "python"
    }
  },
  "cells": [
    {
      "cell_type": "markdown",
      "metadata": {
        "id": "view-in-github",
        "colab_type": "text"
      },
      "source": [
        "<a href=\"https://colab.research.google.com/github/Rayfalmayvandra/Praktikum-Struktur-Data/blob/main/2410506009_tugasstrukdat_stack.ipynb\" target=\"_parent\"><img src=\"https://colab.research.google.com/assets/colab-badge.svg\" alt=\"Open In Colab\"/></a>"
      ]
    },
    {
      "cell_type": "code",
      "source": [
        "from queue import LifoQueue\n",
        "\n",
        "class TowerOfHanoi:\n",
        "    def __init__(self):\n",
        "        self.backups = LifoQueue()\n",
        "        self.tiang1 = [1,2,3]\n",
        "        self.tiang2 = [4,5,6]\n",
        "        self.tiang3 = [7,8,9]\n",
        "    def PindahCakram(self,move,to):\n",
        "        nama = 0\n",
        "        if to == \"1\" :\n",
        "          nama=self.tiang1.pop()\n",
        "        if to == \"2\" :\n",
        "          nama=self.tiang2.pop()\n",
        "        if to == \"3\" :\n",
        "          nama=self.tiang3.pop()\n",
        "        if move == \"1\" :\n",
        "          self.tiang1.append(nama)\n",
        "        if move == \"2\" :\n",
        "          self.tiang2.append(nama)\n",
        "        if move == \"3\" :\n",
        "          self.tiang3.append(nama)\n",
        "\n",
        "    def backup(self, version):\n",
        "        self.backups.put(version)\n",
        "\n",
        "    def latest_backup(self):\n",
        "        if not self.backups.empty():\n",
        "            return f\"Cakram Teratas: {self.backups.queue[-1]}\"\n",
        "        return \"Tidak ada Cakram!\"\n",
        "\n",
        "backup_system = TowerOfHanoi()\n",
        "backup_system.backup(\"001\")\n",
        "backup_system.backup(\"002\")\n",
        "backup_system.backup(\"003\")\n",
        "\n",
        "print(backup_system.latest_backup())\n",
        "\n",
        "menang = [1,2,3,4,5,6,7,8,9]\n",
        "langkah = 0\n",
        "maksimal_langkah = 9\n",
        "\n",
        "while True :\n",
        "  print(backup_system.tiang1)\n",
        "  print(backup_system.tiang2)\n",
        "  print(backup_system.tiang3)\n",
        "  move = str(input(\"Pindahkan ke Variabel :\"))\n",
        "  to = str(input(\"Hapus Variabel ke :\"))\n",
        "  backup_system.PindahCakram(move,to)\n",
        "\n",
        "  if backup_system.tiang1 == menang or backup_system.tiang2 == menang or backup_system.tiang3 == menang:\n",
        "        print(\"Selamat! Anda sudah menang.\")\n",
        "        print(\"Cakram yang sudah terurut:\", menang)\n",
        "        break\n",
        "\n",
        "  if langkah == maksimal_langkah:\n",
        "    print(\"Game over! Anda telah mencapai batas maksimal 9 langkah.\")\n",
        "    break\n"
      ],
      "metadata": {
        "id": "de494kNNakLe",
        "colab": {
          "base_uri": "https://localhost:8080/"
        },
        "outputId": "593f8549-670d-4bda-8dad-412e9748e5b4"
      },
      "execution_count": 9,
      "outputs": [
        {
          "output_type": "stream",
          "name": "stdout",
          "text": [
            "Cakram Teratas: 003\n",
            "[1, 2, 3]\n",
            "[4, 5, 6]\n",
            "[7, 8, 9]\n",
            "Pindahkan ke Variabel :3\n",
            "Hapus Variabel ke :2\n",
            "[1, 2, 3]\n",
            "[4, 5]\n",
            "[7, 8, 9, 6]\n",
            "Pindahkan ke Variabel :3\n",
            "Hapus Variabel ke :2\n",
            "[1, 2, 3]\n",
            "[4]\n",
            "[7, 8, 9, 6, 5]\n",
            "Pindahkan ke Variabel :1\n",
            "Hapus Variabel ke :2\n",
            "[1, 2, 3, 4]\n",
            "[]\n",
            "[7, 8, 9, 6, 5]\n",
            "Pindahkan ke Variabel :1\n",
            "Hapus Variabel ke :3\n",
            "[1, 2, 3, 4, 5]\n",
            "[]\n",
            "[7, 8, 9, 6]\n",
            "Pindahkan ke Variabel :1\n",
            "Hapus Variabel ke :3\n",
            "[1, 2, 3, 4, 5, 6]\n",
            "[]\n",
            "[7, 8, 9]\n",
            "Pindahkan ke Variabel :2\n",
            "Hapus Variabel ke :3\n",
            "[1, 2, 3, 4, 5, 6]\n",
            "[9]\n",
            "[7, 8]\n",
            "Pindahkan ke Variabel :2\n",
            "Hapus Variabel ke :3\n",
            "[1, 2, 3, 4, 5, 6]\n",
            "[9, 8]\n",
            "[7]\n",
            "Pindahkan ke Variabel :1\n",
            "Hapus Variabel ke :3\n",
            "[1, 2, 3, 4, 5, 6, 7]\n",
            "[9, 8]\n",
            "[]\n",
            "Pindahkan ke Variabel :1\n",
            "Hapus Variabel ke :2\n",
            "[1, 2, 3, 4, 5, 6, 7, 8]\n",
            "[9]\n",
            "[]\n",
            "Pindahkan ke Variabel :1\n",
            "Hapus Variabel ke :2\n",
            "Selamat! Anda sudah menang.\n",
            "Cakram yang sudah terurut: [1, 2, 3, 4, 5, 6, 7, 8, 9]\n"
          ]
        }
      ]
    }
  ]
}