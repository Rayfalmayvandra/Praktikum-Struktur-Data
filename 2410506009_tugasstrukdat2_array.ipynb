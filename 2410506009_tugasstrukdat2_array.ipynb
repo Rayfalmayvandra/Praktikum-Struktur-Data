{
  "nbformat": 4,
  "nbformat_minor": 0,
  "metadata": {
    "colab": {
      "provenance": [],
      "authorship_tag": "ABX9TyPaaA4Wj6L2/ksPL7lixc1h",
      "include_colab_link": true
    },
    "kernelspec": {
      "name": "python3",
      "display_name": "Python 3"
    },
    "language_info": {
      "name": "python"
    }
  },
  "cells": [
    {
      "cell_type": "markdown",
      "metadata": {
        "id": "view-in-github",
        "colab_type": "text"
      },
      "source": [
        "<a href=\"https://colab.research.google.com/github/Rayfalmayvandra/Praktikum-Struktur-Data/blob/main/2410506009_tugasstrukdat2_array.ipynb\" target=\"_parent\"><img src=\"https://colab.research.google.com/assets/colab-badge.svg\" alt=\"Open In Colab\"/></a>"
      ]
    },
    {
      "cell_type": "code",
      "execution_count": 1,
      "metadata": {
        "colab": {
          "base_uri": "https://localhost:8080/"
        },
        "id": "VOn1VpoU5H17",
        "outputId": "add4099b-010c-4c8a-b9bb-e573d8adfba9"
      },
      "outputs": [
        {
          "output_type": "stream",
          "name": "stdout",
          "text": [
            "Masukkan Jumlah Satpam :4\n",
            "Masukkan Nama satpam ke-1: Yogi\n",
            "Masukkan Nama satpam ke-2: Ferdi\n",
            "Masukkan Nama satpam ke-3: Rahma\n",
            "Masukkan Nama satpam ke-4: Rayfal\n",
            "\n",
            "Jadwal Satpam Selama 2 Minggu:\n",
            "1. Yogi\n",
            "2. Ferdi\n",
            "3. Rahma\n",
            "4. Rayfal\n",
            "5. Yogi\n",
            "6. Ferdi\n",
            "7. Rahma\n",
            "8. Rayfal\n",
            "9. Yogi\n",
            "10. Ferdi\n",
            "11. Rahma\n",
            "12. Rayfal\n",
            "13. Yogi\n",
            "14. Ferdi\n"
          ]
        }
      ],
      "source": [
        "class SatpamNode :\n",
        "  def __init__ (self, data) :\n",
        "    self.data = data\n",
        "    self.next = None\n",
        "    self.Nama = data\n",
        "\n",
        "class SatpamList :\n",
        "  def __init__ (self) :\n",
        "    self.head = None\n",
        "\n",
        "  def tambahSatpam(self, data) :\n",
        "    node = SatpamNode(data)\n",
        "    if self.head == None :\n",
        "      self.head = node\n",
        "      node.next = self.head\n",
        "\n",
        "    else :\n",
        "      current = self.head\n",
        "      while current.next != self.head :\n",
        "        current = current.next\n",
        "      current.next = node\n",
        "      node.next = self.head\n",
        "\n",
        "  def show_satpam(self):\n",
        "      if not self.head:\n",
        "        print(\"\\nTidak ada Jadwal Satpam Hari Ini!\")\n",
        "        return\n",
        "\n",
        "      print(\"\\nJadwal Satpam Selama 2 Minggu:\")\n",
        "      current = self.head\n",
        "      count = 1\n",
        "      while count <= 14:\n",
        "        print(f\"{count}. {current.Nama}\")\n",
        "        current = current.next\n",
        "        count += 1\n",
        "\n",
        "satpam = SatpamList()\n",
        "inputsatpam = int(input(\"Masukkan Jumlah Satpam :\"))\n",
        "for i in range(1, inputsatpam + 1):\n",
        "      nama_satpam = input(f\"Masukkan Nama satpam ke-{i}: \")\n",
        "\n",
        "      satpam.tambahSatpam(nama_satpam)\n",
        "\n",
        "satpam.show_satpam()"
      ]
    }
  ]
}